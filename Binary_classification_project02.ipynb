{
  "cells": [
    {
      "cell_type": "markdown",
      "metadata": {
        "id": "view-in-github",
        "colab_type": "text"
      },
      "source": [
        "<a href=\"https://colab.research.google.com/github/Chandu106/Binary_classification_project02/blob/main/Binary_classification_project02.ipynb\" target=\"_parent\"><img src=\"https://colab.research.google.com/assets/colab-badge.svg\" alt=\"Open In Colab\"/></a>"
      ]
    },
    {
      "cell_type": "code",
      "execution_count": 277,
      "metadata": {
        "id": "GDyfG81Sq-AM"
      },
      "outputs": [],
      "source": [
        "import tensorflow as tf\n",
        "import pandas as pd\n",
        "import matplotlib.pyplot as plt"
      ]
    },
    {
      "cell_type": "code",
      "execution_count": 278,
      "metadata": {
        "id": "OOSWSv8izxmj"
      },
      "outputs": [],
      "source": [
        "project02 = pd.read_csv(\"https://raw.githubusercontent.com/Chandu106/Binary_classification_project02/main/heart_cleveland_upload_csv.csv\")\n"
      ]
    },
    {
      "cell_type": "code",
      "execution_count": 279,
      "metadata": {
        "colab": {
          "base_uri": "https://localhost:8080/",
          "height": 206
        },
        "id": "PD9DbK7b0ENi",
        "outputId": "896d855a-970a-4cfa-fa3c-02958dc2cdc2"
      },
      "outputs": [
        {
          "output_type": "execute_result",
          "data": {
            "text/plain": [
              "   age  sex  cp  trestbps  chol  fbs  restecg  thalach  exang  oldpeak  slope  \\\n",
              "0   69    1   0       160   234    1        2      131      0      0.1      1   \n",
              "1   69    0   0       140   239    0        0      151      0      1.8      0   \n",
              "2   66    0   0       150   226    0        0      114      0      2.6      2   \n",
              "3   65    1   0       138   282    1        2      174      0      1.4      1   \n",
              "4   64    1   0       110   211    0        2      144      1      1.8      1   \n",
              "\n",
              "   ca  thal  condition  \n",
              "0   1     0          0  \n",
              "1   2     0          0  \n",
              "2   0     0          0  \n",
              "3   1     0          1  \n",
              "4   0     0          0  "
            ],
            "text/html": [
              "\n",
              "  <div id=\"df-73331d20-e3d5-4551-90c5-5bb150e83cf4\">\n",
              "    <div class=\"colab-df-container\">\n",
              "      <div>\n",
              "<style scoped>\n",
              "    .dataframe tbody tr th:only-of-type {\n",
              "        vertical-align: middle;\n",
              "    }\n",
              "\n",
              "    .dataframe tbody tr th {\n",
              "        vertical-align: top;\n",
              "    }\n",
              "\n",
              "    .dataframe thead th {\n",
              "        text-align: right;\n",
              "    }\n",
              "</style>\n",
              "<table border=\"1\" class=\"dataframe\">\n",
              "  <thead>\n",
              "    <tr style=\"text-align: right;\">\n",
              "      <th></th>\n",
              "      <th>age</th>\n",
              "      <th>sex</th>\n",
              "      <th>cp</th>\n",
              "      <th>trestbps</th>\n",
              "      <th>chol</th>\n",
              "      <th>fbs</th>\n",
              "      <th>restecg</th>\n",
              "      <th>thalach</th>\n",
              "      <th>exang</th>\n",
              "      <th>oldpeak</th>\n",
              "      <th>slope</th>\n",
              "      <th>ca</th>\n",
              "      <th>thal</th>\n",
              "      <th>condition</th>\n",
              "    </tr>\n",
              "  </thead>\n",
              "  <tbody>\n",
              "    <tr>\n",
              "      <th>0</th>\n",
              "      <td>69</td>\n",
              "      <td>1</td>\n",
              "      <td>0</td>\n",
              "      <td>160</td>\n",
              "      <td>234</td>\n",
              "      <td>1</td>\n",
              "      <td>2</td>\n",
              "      <td>131</td>\n",
              "      <td>0</td>\n",
              "      <td>0.1</td>\n",
              "      <td>1</td>\n",
              "      <td>1</td>\n",
              "      <td>0</td>\n",
              "      <td>0</td>\n",
              "    </tr>\n",
              "    <tr>\n",
              "      <th>1</th>\n",
              "      <td>69</td>\n",
              "      <td>0</td>\n",
              "      <td>0</td>\n",
              "      <td>140</td>\n",
              "      <td>239</td>\n",
              "      <td>0</td>\n",
              "      <td>0</td>\n",
              "      <td>151</td>\n",
              "      <td>0</td>\n",
              "      <td>1.8</td>\n",
              "      <td>0</td>\n",
              "      <td>2</td>\n",
              "      <td>0</td>\n",
              "      <td>0</td>\n",
              "    </tr>\n",
              "    <tr>\n",
              "      <th>2</th>\n",
              "      <td>66</td>\n",
              "      <td>0</td>\n",
              "      <td>0</td>\n",
              "      <td>150</td>\n",
              "      <td>226</td>\n",
              "      <td>0</td>\n",
              "      <td>0</td>\n",
              "      <td>114</td>\n",
              "      <td>0</td>\n",
              "      <td>2.6</td>\n",
              "      <td>2</td>\n",
              "      <td>0</td>\n",
              "      <td>0</td>\n",
              "      <td>0</td>\n",
              "    </tr>\n",
              "    <tr>\n",
              "      <th>3</th>\n",
              "      <td>65</td>\n",
              "      <td>1</td>\n",
              "      <td>0</td>\n",
              "      <td>138</td>\n",
              "      <td>282</td>\n",
              "      <td>1</td>\n",
              "      <td>2</td>\n",
              "      <td>174</td>\n",
              "      <td>0</td>\n",
              "      <td>1.4</td>\n",
              "      <td>1</td>\n",
              "      <td>1</td>\n",
              "      <td>0</td>\n",
              "      <td>1</td>\n",
              "    </tr>\n",
              "    <tr>\n",
              "      <th>4</th>\n",
              "      <td>64</td>\n",
              "      <td>1</td>\n",
              "      <td>0</td>\n",
              "      <td>110</td>\n",
              "      <td>211</td>\n",
              "      <td>0</td>\n",
              "      <td>2</td>\n",
              "      <td>144</td>\n",
              "      <td>1</td>\n",
              "      <td>1.8</td>\n",
              "      <td>1</td>\n",
              "      <td>0</td>\n",
              "      <td>0</td>\n",
              "      <td>0</td>\n",
              "    </tr>\n",
              "  </tbody>\n",
              "</table>\n",
              "</div>\n",
              "      <button class=\"colab-df-convert\" onclick=\"convertToInteractive('df-73331d20-e3d5-4551-90c5-5bb150e83cf4')\"\n",
              "              title=\"Convert this dataframe to an interactive table.\"\n",
              "              style=\"display:none;\">\n",
              "        \n",
              "  <svg xmlns=\"http://www.w3.org/2000/svg\" height=\"24px\"viewBox=\"0 0 24 24\"\n",
              "       width=\"24px\">\n",
              "    <path d=\"M0 0h24v24H0V0z\" fill=\"none\"/>\n",
              "    <path d=\"M18.56 5.44l.94 2.06.94-2.06 2.06-.94-2.06-.94-.94-2.06-.94 2.06-2.06.94zm-11 1L8.5 8.5l.94-2.06 2.06-.94-2.06-.94L8.5 2.5l-.94 2.06-2.06.94zm10 10l.94 2.06.94-2.06 2.06-.94-2.06-.94-.94-2.06-.94 2.06-2.06.94z\"/><path d=\"M17.41 7.96l-1.37-1.37c-.4-.4-.92-.59-1.43-.59-.52 0-1.04.2-1.43.59L10.3 9.45l-7.72 7.72c-.78.78-.78 2.05 0 2.83L4 21.41c.39.39.9.59 1.41.59.51 0 1.02-.2 1.41-.59l7.78-7.78 2.81-2.81c.8-.78.8-2.07 0-2.86zM5.41 20L4 18.59l7.72-7.72 1.47 1.35L5.41 20z\"/>\n",
              "  </svg>\n",
              "      </button>\n",
              "      \n",
              "  <style>\n",
              "    .colab-df-container {\n",
              "      display:flex;\n",
              "      flex-wrap:wrap;\n",
              "      gap: 12px;\n",
              "    }\n",
              "\n",
              "    .colab-df-convert {\n",
              "      background-color: #E8F0FE;\n",
              "      border: none;\n",
              "      border-radius: 50%;\n",
              "      cursor: pointer;\n",
              "      display: none;\n",
              "      fill: #1967D2;\n",
              "      height: 32px;\n",
              "      padding: 0 0 0 0;\n",
              "      width: 32px;\n",
              "    }\n",
              "\n",
              "    .colab-df-convert:hover {\n",
              "      background-color: #E2EBFA;\n",
              "      box-shadow: 0px 1px 2px rgba(60, 64, 67, 0.3), 0px 1px 3px 1px rgba(60, 64, 67, 0.15);\n",
              "      fill: #174EA6;\n",
              "    }\n",
              "\n",
              "    [theme=dark] .colab-df-convert {\n",
              "      background-color: #3B4455;\n",
              "      fill: #D2E3FC;\n",
              "    }\n",
              "\n",
              "    [theme=dark] .colab-df-convert:hover {\n",
              "      background-color: #434B5C;\n",
              "      box-shadow: 0px 1px 3px 1px rgba(0, 0, 0, 0.15);\n",
              "      filter: drop-shadow(0px 1px 2px rgba(0, 0, 0, 0.3));\n",
              "      fill: #FFFFFF;\n",
              "    }\n",
              "  </style>\n",
              "\n",
              "      <script>\n",
              "        const buttonEl =\n",
              "          document.querySelector('#df-73331d20-e3d5-4551-90c5-5bb150e83cf4 button.colab-df-convert');\n",
              "        buttonEl.style.display =\n",
              "          google.colab.kernel.accessAllowed ? 'block' : 'none';\n",
              "\n",
              "        async function convertToInteractive(key) {\n",
              "          const element = document.querySelector('#df-73331d20-e3d5-4551-90c5-5bb150e83cf4');\n",
              "          const dataTable =\n",
              "            await google.colab.kernel.invokeFunction('convertToInteractive',\n",
              "                                                     [key], {});\n",
              "          if (!dataTable) return;\n",
              "\n",
              "          const docLinkHtml = 'Like what you see? Visit the ' +\n",
              "            '<a target=\"_blank\" href=https://colab.research.google.com/notebooks/data_table.ipynb>data table notebook</a>'\n",
              "            + ' to learn more about interactive tables.';\n",
              "          element.innerHTML = '';\n",
              "          dataTable['output_type'] = 'display_data';\n",
              "          await google.colab.output.renderOutput(dataTable, element);\n",
              "          const docLink = document.createElement('div');\n",
              "          docLink.innerHTML = docLinkHtml;\n",
              "          element.appendChild(docLink);\n",
              "        }\n",
              "      </script>\n",
              "    </div>\n",
              "  </div>\n",
              "  "
            ]
          },
          "metadata": {},
          "execution_count": 279
        }
      ],
      "source": [
        "project02.head()"
      ]
    },
    {
      "cell_type": "code",
      "execution_count": 280,
      "metadata": {
        "id": "JkfxmfKG0IBx"
      },
      "outputs": [],
      "source": [
        "# creating X and y (features and labels)\n",
        "\n",
        "X = project02.drop(\"condition\", axis=1)\n",
        "y = project02[\"condition\"]\n"
      ]
    },
    {
      "cell_type": "code",
      "execution_count": 281,
      "metadata": {
        "colab": {
          "base_uri": "https://localhost:8080/",
          "height": 206
        },
        "id": "qSTBaB0H1IuQ",
        "outputId": "d6d8774b-5d2e-45bd-c28d-57afc2ffc174"
      },
      "outputs": [
        {
          "output_type": "execute_result",
          "data": {
            "text/plain": [
              "   age  sex  cp  trestbps  chol  fbs  restecg  thalach  exang  oldpeak  slope  \\\n",
              "0   69    1   0       160   234    1        2      131      0      0.1      1   \n",
              "1   69    0   0       140   239    0        0      151      0      1.8      0   \n",
              "2   66    0   0       150   226    0        0      114      0      2.6      2   \n",
              "3   65    1   0       138   282    1        2      174      0      1.4      1   \n",
              "4   64    1   0       110   211    0        2      144      1      1.8      1   \n",
              "\n",
              "   ca  thal  \n",
              "0   1     0  \n",
              "1   2     0  \n",
              "2   0     0  \n",
              "3   1     0  \n",
              "4   0     0  "
            ],
            "text/html": [
              "\n",
              "  <div id=\"df-1d0c78f9-ef74-48f9-9842-b11529991cb4\">\n",
              "    <div class=\"colab-df-container\">\n",
              "      <div>\n",
              "<style scoped>\n",
              "    .dataframe tbody tr th:only-of-type {\n",
              "        vertical-align: middle;\n",
              "    }\n",
              "\n",
              "    .dataframe tbody tr th {\n",
              "        vertical-align: top;\n",
              "    }\n",
              "\n",
              "    .dataframe thead th {\n",
              "        text-align: right;\n",
              "    }\n",
              "</style>\n",
              "<table border=\"1\" class=\"dataframe\">\n",
              "  <thead>\n",
              "    <tr style=\"text-align: right;\">\n",
              "      <th></th>\n",
              "      <th>age</th>\n",
              "      <th>sex</th>\n",
              "      <th>cp</th>\n",
              "      <th>trestbps</th>\n",
              "      <th>chol</th>\n",
              "      <th>fbs</th>\n",
              "      <th>restecg</th>\n",
              "      <th>thalach</th>\n",
              "      <th>exang</th>\n",
              "      <th>oldpeak</th>\n",
              "      <th>slope</th>\n",
              "      <th>ca</th>\n",
              "      <th>thal</th>\n",
              "    </tr>\n",
              "  </thead>\n",
              "  <tbody>\n",
              "    <tr>\n",
              "      <th>0</th>\n",
              "      <td>69</td>\n",
              "      <td>1</td>\n",
              "      <td>0</td>\n",
              "      <td>160</td>\n",
              "      <td>234</td>\n",
              "      <td>1</td>\n",
              "      <td>2</td>\n",
              "      <td>131</td>\n",
              "      <td>0</td>\n",
              "      <td>0.1</td>\n",
              "      <td>1</td>\n",
              "      <td>1</td>\n",
              "      <td>0</td>\n",
              "    </tr>\n",
              "    <tr>\n",
              "      <th>1</th>\n",
              "      <td>69</td>\n",
              "      <td>0</td>\n",
              "      <td>0</td>\n",
              "      <td>140</td>\n",
              "      <td>239</td>\n",
              "      <td>0</td>\n",
              "      <td>0</td>\n",
              "      <td>151</td>\n",
              "      <td>0</td>\n",
              "      <td>1.8</td>\n",
              "      <td>0</td>\n",
              "      <td>2</td>\n",
              "      <td>0</td>\n",
              "    </tr>\n",
              "    <tr>\n",
              "      <th>2</th>\n",
              "      <td>66</td>\n",
              "      <td>0</td>\n",
              "      <td>0</td>\n",
              "      <td>150</td>\n",
              "      <td>226</td>\n",
              "      <td>0</td>\n",
              "      <td>0</td>\n",
              "      <td>114</td>\n",
              "      <td>0</td>\n",
              "      <td>2.6</td>\n",
              "      <td>2</td>\n",
              "      <td>0</td>\n",
              "      <td>0</td>\n",
              "    </tr>\n",
              "    <tr>\n",
              "      <th>3</th>\n",
              "      <td>65</td>\n",
              "      <td>1</td>\n",
              "      <td>0</td>\n",
              "      <td>138</td>\n",
              "      <td>282</td>\n",
              "      <td>1</td>\n",
              "      <td>2</td>\n",
              "      <td>174</td>\n",
              "      <td>0</td>\n",
              "      <td>1.4</td>\n",
              "      <td>1</td>\n",
              "      <td>1</td>\n",
              "      <td>0</td>\n",
              "    </tr>\n",
              "    <tr>\n",
              "      <th>4</th>\n",
              "      <td>64</td>\n",
              "      <td>1</td>\n",
              "      <td>0</td>\n",
              "      <td>110</td>\n",
              "      <td>211</td>\n",
              "      <td>0</td>\n",
              "      <td>2</td>\n",
              "      <td>144</td>\n",
              "      <td>1</td>\n",
              "      <td>1.8</td>\n",
              "      <td>1</td>\n",
              "      <td>0</td>\n",
              "      <td>0</td>\n",
              "    </tr>\n",
              "  </tbody>\n",
              "</table>\n",
              "</div>\n",
              "      <button class=\"colab-df-convert\" onclick=\"convertToInteractive('df-1d0c78f9-ef74-48f9-9842-b11529991cb4')\"\n",
              "              title=\"Convert this dataframe to an interactive table.\"\n",
              "              style=\"display:none;\">\n",
              "        \n",
              "  <svg xmlns=\"http://www.w3.org/2000/svg\" height=\"24px\"viewBox=\"0 0 24 24\"\n",
              "       width=\"24px\">\n",
              "    <path d=\"M0 0h24v24H0V0z\" fill=\"none\"/>\n",
              "    <path d=\"M18.56 5.44l.94 2.06.94-2.06 2.06-.94-2.06-.94-.94-2.06-.94 2.06-2.06.94zm-11 1L8.5 8.5l.94-2.06 2.06-.94-2.06-.94L8.5 2.5l-.94 2.06-2.06.94zm10 10l.94 2.06.94-2.06 2.06-.94-2.06-.94-.94-2.06-.94 2.06-2.06.94z\"/><path d=\"M17.41 7.96l-1.37-1.37c-.4-.4-.92-.59-1.43-.59-.52 0-1.04.2-1.43.59L10.3 9.45l-7.72 7.72c-.78.78-.78 2.05 0 2.83L4 21.41c.39.39.9.59 1.41.59.51 0 1.02-.2 1.41-.59l7.78-7.78 2.81-2.81c.8-.78.8-2.07 0-2.86zM5.41 20L4 18.59l7.72-7.72 1.47 1.35L5.41 20z\"/>\n",
              "  </svg>\n",
              "      </button>\n",
              "      \n",
              "  <style>\n",
              "    .colab-df-container {\n",
              "      display:flex;\n",
              "      flex-wrap:wrap;\n",
              "      gap: 12px;\n",
              "    }\n",
              "\n",
              "    .colab-df-convert {\n",
              "      background-color: #E8F0FE;\n",
              "      border: none;\n",
              "      border-radius: 50%;\n",
              "      cursor: pointer;\n",
              "      display: none;\n",
              "      fill: #1967D2;\n",
              "      height: 32px;\n",
              "      padding: 0 0 0 0;\n",
              "      width: 32px;\n",
              "    }\n",
              "\n",
              "    .colab-df-convert:hover {\n",
              "      background-color: #E2EBFA;\n",
              "      box-shadow: 0px 1px 2px rgba(60, 64, 67, 0.3), 0px 1px 3px 1px rgba(60, 64, 67, 0.15);\n",
              "      fill: #174EA6;\n",
              "    }\n",
              "\n",
              "    [theme=dark] .colab-df-convert {\n",
              "      background-color: #3B4455;\n",
              "      fill: #D2E3FC;\n",
              "    }\n",
              "\n",
              "    [theme=dark] .colab-df-convert:hover {\n",
              "      background-color: #434B5C;\n",
              "      box-shadow: 0px 1px 3px 1px rgba(0, 0, 0, 0.15);\n",
              "      filter: drop-shadow(0px 1px 2px rgba(0, 0, 0, 0.3));\n",
              "      fill: #FFFFFF;\n",
              "    }\n",
              "  </style>\n",
              "\n",
              "      <script>\n",
              "        const buttonEl =\n",
              "          document.querySelector('#df-1d0c78f9-ef74-48f9-9842-b11529991cb4 button.colab-df-convert');\n",
              "        buttonEl.style.display =\n",
              "          google.colab.kernel.accessAllowed ? 'block' : 'none';\n",
              "\n",
              "        async function convertToInteractive(key) {\n",
              "          const element = document.querySelector('#df-1d0c78f9-ef74-48f9-9842-b11529991cb4');\n",
              "          const dataTable =\n",
              "            await google.colab.kernel.invokeFunction('convertToInteractive',\n",
              "                                                     [key], {});\n",
              "          if (!dataTable) return;\n",
              "\n",
              "          const docLinkHtml = 'Like what you see? Visit the ' +\n",
              "            '<a target=\"_blank\" href=https://colab.research.google.com/notebooks/data_table.ipynb>data table notebook</a>'\n",
              "            + ' to learn more about interactive tables.';\n",
              "          element.innerHTML = '';\n",
              "          dataTable['output_type'] = 'display_data';\n",
              "          await google.colab.output.renderOutput(dataTable, element);\n",
              "          const docLink = document.createElement('div');\n",
              "          docLink.innerHTML = docLinkHtml;\n",
              "          element.appendChild(docLink);\n",
              "        }\n",
              "      </script>\n",
              "    </div>\n",
              "  </div>\n",
              "  "
            ]
          },
          "metadata": {},
          "execution_count": 281
        }
      ],
      "source": [
        "# view features \n",
        "X.head()"
      ]
    },
    {
      "cell_type": "code",
      "execution_count": 282,
      "metadata": {
        "colab": {
          "base_uri": "https://localhost:8080/"
        },
        "id": "ALd2i_GU1NGY",
        "outputId": "9037c4d6-e864-4d1d-abeb-e0aca2f561d0"
      },
      "outputs": [
        {
          "output_type": "execute_result",
          "data": {
            "text/plain": [
              "0    0\n",
              "1    0\n",
              "2    0\n",
              "3    1\n",
              "4    0\n",
              "Name: condition, dtype: int64"
            ]
          },
          "metadata": {},
          "execution_count": 282
        }
      ],
      "source": [
        "y.head()"
      ]
    },
    {
      "cell_type": "code",
      "execution_count": 283,
      "metadata": {
        "id": "8_NoeEBo1UG-"
      },
      "outputs": [],
      "source": [
        "# creating training and testing data \n",
        "\n",
        "from sklearn.model_selection import train_test_split\n",
        "X_train, X_test, y_train, y_test = train_test_split(X, \n",
        "                                                    y, \n",
        "                                                    test_size=0.3, \n",
        "                                                    random_state=42)"
      ]
    },
    {
      "cell_type": "code",
      "execution_count": 284,
      "metadata": {
        "colab": {
          "base_uri": "https://localhost:8080/"
        },
        "id": "oPb9Tdzd1iGJ",
        "outputId": "26431b5d-2327-47f1-9270-bc849e68392c"
      },
      "outputs": [
        {
          "output_type": "execute_result",
          "data": {
            "text/plain": [
              "(297, 207, 90)"
            ]
          },
          "metadata": {},
          "execution_count": 284
        }
      ],
      "source": [
        "len(X) , len(X_train) , len(X_test)"
      ]
    },
    {
      "cell_type": "code",
      "execution_count": 285,
      "metadata": {
        "colab": {
          "base_uri": "https://localhost:8080/"
        },
        "id": "h88qkgxm1pV7",
        "outputId": "2cd1f7f9-5967-40ef-cf22-0203e6d6dbdb"
      },
      "outputs": [
        {
          "output_type": "execute_result",
          "data": {
            "text/plain": [
              "(297, 207, 90)"
            ]
          },
          "metadata": {},
          "execution_count": 285
        }
      ],
      "source": [
        "len(y) , len(y_train) , len(y_test)"
      ]
    },
    {
      "cell_type": "markdown",
      "source": [
        "#Model_01"
      ],
      "metadata": {
        "id": "Ci1-KO2g4JA7"
      }
    },
    {
      "cell_type": "code",
      "source": [
        "# set random seed \n",
        "tf.random.set_seed(42)\n",
        "\n",
        "# creating the model\n",
        "model_01 = tf.keras.Sequential([\n",
        "    tf.keras.layers.Dense(4, activation = tf.keras.activations.relu),\n",
        "    tf.keras.layers.Dense(4, activation = tf.keras.activations.relu),\n",
        "    tf.keras.layers.Dense(1, activation = tf.keras.activations.sigmoid)\n",
        "])\n",
        "\n",
        "# compile the model \n",
        "model_01.compile(loss = tf.keras.losses.binary_crossentropy,\n",
        "                 optimizer = tf.keras.optimizers.Adam(),\n",
        "                 metrics = ['accuracy'])\n",
        "\n",
        "# fit the model \n",
        "history = model_01.fit(X_train , y_train , epochs = 100)"
      ],
      "metadata": {
        "colab": {
          "base_uri": "https://localhost:8080/"
        },
        "id": "Tnqd6TeQ6LdX",
        "outputId": "72a5a316-91e0-48c2-97ca-b8222b53e82b"
      },
      "execution_count": 286,
      "outputs": [
        {
          "output_type": "stream",
          "name": "stdout",
          "text": [
            "Epoch 1/100\n",
            "7/7 [==============================] - 2s 6ms/step - loss: 4.7755 - accuracy: 0.5411\n",
            "Epoch 2/100\n",
            "7/7 [==============================] - 0s 12ms/step - loss: 4.1064 - accuracy: 0.5411\n",
            "Epoch 3/100\n",
            "7/7 [==============================] - 0s 13ms/step - loss: 3.4093 - accuracy: 0.5411\n",
            "Epoch 4/100\n",
            "7/7 [==============================] - 0s 7ms/step - loss: 2.7196 - accuracy: 0.5411\n",
            "Epoch 5/100\n",
            "7/7 [==============================] - 0s 6ms/step - loss: 1.9352 - accuracy: 0.5411\n",
            "Epoch 6/100\n",
            "7/7 [==============================] - 0s 11ms/step - loss: 1.2203 - accuracy: 0.5411\n",
            "Epoch 7/100\n",
            "7/7 [==============================] - 0s 5ms/step - loss: 0.6869 - accuracy: 0.6329\n",
            "Epoch 8/100\n",
            "7/7 [==============================] - 0s 13ms/step - loss: 0.6069 - accuracy: 0.6812\n",
            "Epoch 9/100\n",
            "7/7 [==============================] - 0s 8ms/step - loss: 0.6655 - accuracy: 0.5942\n",
            "Epoch 10/100\n",
            "7/7 [==============================] - 0s 14ms/step - loss: 0.6130 - accuracy: 0.6570\n",
            "Epoch 11/100\n",
            "7/7 [==============================] - 0s 8ms/step - loss: 0.5801 - accuracy: 0.7295\n",
            "Epoch 12/100\n",
            "7/7 [==============================] - 0s 11ms/step - loss: 0.5815 - accuracy: 0.6763\n",
            "Epoch 13/100\n",
            "7/7 [==============================] - 0s 12ms/step - loss: 0.5776 - accuracy: 0.6908\n",
            "Epoch 14/100\n",
            "7/7 [==============================] - 0s 12ms/step - loss: 0.5748 - accuracy: 0.7343\n",
            "Epoch 15/100\n",
            "7/7 [==============================] - 0s 7ms/step - loss: 0.5730 - accuracy: 0.7343\n",
            "Epoch 16/100\n",
            "7/7 [==============================] - 0s 9ms/step - loss: 0.5720 - accuracy: 0.7391\n",
            "Epoch 17/100\n",
            "7/7 [==============================] - 0s 7ms/step - loss: 0.5717 - accuracy: 0.7343\n",
            "Epoch 18/100\n",
            "7/7 [==============================] - 0s 7ms/step - loss: 0.5725 - accuracy: 0.7246\n",
            "Epoch 19/100\n",
            "7/7 [==============================] - 0s 11ms/step - loss: 0.5709 - accuracy: 0.7246\n",
            "Epoch 20/100\n",
            "7/7 [==============================] - 0s 9ms/step - loss: 0.5697 - accuracy: 0.7391\n",
            "Epoch 21/100\n",
            "7/7 [==============================] - 0s 4ms/step - loss: 0.5688 - accuracy: 0.7391\n",
            "Epoch 22/100\n",
            "7/7 [==============================] - 0s 9ms/step - loss: 0.5703 - accuracy: 0.7391\n",
            "Epoch 23/100\n",
            "7/7 [==============================] - 0s 11ms/step - loss: 0.5671 - accuracy: 0.7391\n",
            "Epoch 24/100\n",
            "7/7 [==============================] - 0s 7ms/step - loss: 0.5663 - accuracy: 0.7440\n",
            "Epoch 25/100\n",
            "7/7 [==============================] - 0s 7ms/step - loss: 0.5654 - accuracy: 0.7343\n",
            "Epoch 26/100\n",
            "7/7 [==============================] - 0s 7ms/step - loss: 0.5657 - accuracy: 0.7246\n",
            "Epoch 27/100\n",
            "7/7 [==============================] - 0s 6ms/step - loss: 0.5649 - accuracy: 0.7488\n",
            "Epoch 28/100\n",
            "7/7 [==============================] - 0s 8ms/step - loss: 0.5654 - accuracy: 0.7391\n",
            "Epoch 29/100\n",
            "7/7 [==============================] - 0s 5ms/step - loss: 0.5623 - accuracy: 0.7536\n",
            "Epoch 30/100\n",
            "7/7 [==============================] - 0s 8ms/step - loss: 0.5625 - accuracy: 0.7391\n",
            "Epoch 31/100\n",
            "7/7 [==============================] - 0s 12ms/step - loss: 0.5612 - accuracy: 0.7343\n",
            "Epoch 32/100\n",
            "7/7 [==============================] - 0s 12ms/step - loss: 0.5598 - accuracy: 0.7440\n",
            "Epoch 33/100\n",
            "7/7 [==============================] - 0s 14ms/step - loss: 0.5620 - accuracy: 0.7440\n",
            "Epoch 34/100\n",
            "7/7 [==============================] - 0s 12ms/step - loss: 0.5579 - accuracy: 0.7536\n",
            "Epoch 35/100\n",
            "7/7 [==============================] - 0s 10ms/step - loss: 0.5576 - accuracy: 0.7391\n",
            "Epoch 36/100\n",
            "7/7 [==============================] - 0s 13ms/step - loss: 0.5571 - accuracy: 0.7295\n",
            "Epoch 37/100\n",
            "7/7 [==============================] - 0s 7ms/step - loss: 0.5576 - accuracy: 0.7295\n",
            "Epoch 38/100\n",
            "7/7 [==============================] - 0s 15ms/step - loss: 0.5548 - accuracy: 0.7488\n",
            "Epoch 39/100\n",
            "7/7 [==============================] - 0s 10ms/step - loss: 0.5532 - accuracy: 0.7488\n",
            "Epoch 40/100\n",
            "7/7 [==============================] - 0s 14ms/step - loss: 0.5526 - accuracy: 0.7536\n",
            "Epoch 41/100\n",
            "7/7 [==============================] - 0s 16ms/step - loss: 0.5526 - accuracy: 0.7440\n",
            "Epoch 42/100\n",
            "7/7 [==============================] - 0s 8ms/step - loss: 0.5522 - accuracy: 0.7391\n",
            "Epoch 43/100\n",
            "7/7 [==============================] - 0s 14ms/step - loss: 0.5507 - accuracy: 0.7488\n",
            "Epoch 44/100\n",
            "7/7 [==============================] - 0s 14ms/step - loss: 0.5503 - accuracy: 0.7488\n",
            "Epoch 45/100\n",
            "7/7 [==============================] - 0s 11ms/step - loss: 0.5482 - accuracy: 0.7440\n",
            "Epoch 46/100\n",
            "7/7 [==============================] - 0s 16ms/step - loss: 0.5469 - accuracy: 0.7585\n",
            "Epoch 47/100\n",
            "7/7 [==============================] - 0s 20ms/step - loss: 0.5459 - accuracy: 0.7488\n",
            "Epoch 48/100\n",
            "7/7 [==============================] - 0s 12ms/step - loss: 0.5464 - accuracy: 0.7440\n",
            "Epoch 49/100\n",
            "7/7 [==============================] - 0s 16ms/step - loss: 0.5452 - accuracy: 0.7488\n",
            "Epoch 50/100\n",
            "7/7 [==============================] - 0s 16ms/step - loss: 0.5433 - accuracy: 0.7536\n",
            "Epoch 51/100\n",
            "7/7 [==============================] - 0s 20ms/step - loss: 0.5431 - accuracy: 0.7391\n",
            "Epoch 52/100\n",
            "7/7 [==============================] - 0s 18ms/step - loss: 0.5417 - accuracy: 0.7391\n",
            "Epoch 53/100\n",
            "7/7 [==============================] - 0s 7ms/step - loss: 0.5412 - accuracy: 0.7633\n",
            "Epoch 54/100\n",
            "7/7 [==============================] - 0s 11ms/step - loss: 0.5406 - accuracy: 0.7585\n",
            "Epoch 55/100\n",
            "7/7 [==============================] - 0s 6ms/step - loss: 0.5390 - accuracy: 0.7440\n",
            "Epoch 56/100\n",
            "7/7 [==============================] - 0s 5ms/step - loss: 0.5395 - accuracy: 0.7440\n",
            "Epoch 57/100\n",
            "7/7 [==============================] - 0s 8ms/step - loss: 0.5368 - accuracy: 0.7440\n",
            "Epoch 58/100\n",
            "7/7 [==============================] - 0s 11ms/step - loss: 0.5364 - accuracy: 0.7633\n",
            "Epoch 59/100\n",
            "7/7 [==============================] - 0s 10ms/step - loss: 0.5371 - accuracy: 0.7585\n",
            "Epoch 60/100\n",
            "7/7 [==============================] - 0s 7ms/step - loss: 0.5349 - accuracy: 0.7440\n",
            "Epoch 61/100\n",
            "7/7 [==============================] - 0s 8ms/step - loss: 0.5332 - accuracy: 0.7585\n",
            "Epoch 62/100\n",
            "7/7 [==============================] - 0s 13ms/step - loss: 0.5344 - accuracy: 0.7585\n",
            "Epoch 63/100\n",
            "7/7 [==============================] - 0s 12ms/step - loss: 0.5297 - accuracy: 0.7633\n",
            "Epoch 64/100\n",
            "7/7 [==============================] - 0s 11ms/step - loss: 0.5326 - accuracy: 0.7391\n",
            "Epoch 65/100\n",
            "7/7 [==============================] - 0s 15ms/step - loss: 0.5333 - accuracy: 0.7391\n",
            "Epoch 66/100\n",
            "7/7 [==============================] - 0s 12ms/step - loss: 0.5301 - accuracy: 0.7440\n",
            "Epoch 67/100\n",
            "7/7 [==============================] - 0s 13ms/step - loss: 0.5291 - accuracy: 0.7681\n",
            "Epoch 68/100\n",
            "7/7 [==============================] - 0s 9ms/step - loss: 0.5277 - accuracy: 0.7585\n",
            "Epoch 69/100\n",
            "7/7 [==============================] - 0s 10ms/step - loss: 0.5263 - accuracy: 0.7488\n",
            "Epoch 70/100\n",
            "7/7 [==============================] - 0s 13ms/step - loss: 0.5255 - accuracy: 0.7633\n",
            "Epoch 71/100\n",
            "7/7 [==============================] - 0s 12ms/step - loss: 0.5247 - accuracy: 0.7681\n",
            "Epoch 72/100\n",
            "7/7 [==============================] - 0s 10ms/step - loss: 0.5242 - accuracy: 0.7633\n",
            "Epoch 73/100\n",
            "7/7 [==============================] - 0s 12ms/step - loss: 0.5227 - accuracy: 0.7488\n",
            "Epoch 74/100\n",
            "7/7 [==============================] - 0s 11ms/step - loss: 0.5221 - accuracy: 0.7585\n",
            "Epoch 75/100\n",
            "7/7 [==============================] - 0s 8ms/step - loss: 0.5252 - accuracy: 0.7536\n",
            "Epoch 76/100\n",
            "7/7 [==============================] - 0s 7ms/step - loss: 0.5197 - accuracy: 0.7729\n",
            "Epoch 77/100\n",
            "7/7 [==============================] - 0s 7ms/step - loss: 0.5222 - accuracy: 0.7681\n",
            "Epoch 78/100\n",
            "7/7 [==============================] - 0s 7ms/step - loss: 0.5188 - accuracy: 0.7778\n",
            "Epoch 79/100\n",
            "7/7 [==============================] - 0s 7ms/step - loss: 0.5235 - accuracy: 0.7440\n",
            "Epoch 80/100\n",
            "7/7 [==============================] - 0s 7ms/step - loss: 0.5197 - accuracy: 0.7633\n",
            "Epoch 81/100\n",
            "7/7 [==============================] - 0s 4ms/step - loss: 0.5212 - accuracy: 0.7585\n",
            "Epoch 82/100\n",
            "7/7 [==============================] - 0s 5ms/step - loss: 0.5193 - accuracy: 0.7536\n",
            "Epoch 83/100\n",
            "7/7 [==============================] - 0s 4ms/step - loss: 0.5154 - accuracy: 0.7778\n",
            "Epoch 84/100\n",
            "7/7 [==============================] - 0s 9ms/step - loss: 0.5152 - accuracy: 0.7536\n",
            "Epoch 85/100\n",
            "7/7 [==============================] - 0s 7ms/step - loss: 0.5101 - accuracy: 0.7633\n",
            "Epoch 86/100\n",
            "7/7 [==============================] - 0s 5ms/step - loss: 0.5125 - accuracy: 0.7778\n",
            "Epoch 87/100\n",
            "7/7 [==============================] - 0s 5ms/step - loss: 0.5111 - accuracy: 0.7536\n",
            "Epoch 88/100\n",
            "7/7 [==============================] - 0s 4ms/step - loss: 0.5085 - accuracy: 0.7633\n",
            "Epoch 89/100\n",
            "7/7 [==============================] - 0s 11ms/step - loss: 0.5077 - accuracy: 0.7729\n",
            "Epoch 90/100\n",
            "7/7 [==============================] - 0s 10ms/step - loss: 0.5110 - accuracy: 0.7874\n",
            "Epoch 91/100\n",
            "7/7 [==============================] - 0s 5ms/step - loss: 0.5070 - accuracy: 0.7633\n",
            "Epoch 92/100\n",
            "7/7 [==============================] - 0s 4ms/step - loss: 0.5071 - accuracy: 0.7633\n",
            "Epoch 93/100\n",
            "7/7 [==============================] - 0s 6ms/step - loss: 0.5039 - accuracy: 0.7585\n",
            "Epoch 94/100\n",
            "7/7 [==============================] - 0s 8ms/step - loss: 0.5030 - accuracy: 0.7729\n",
            "Epoch 95/100\n",
            "7/7 [==============================] - 0s 9ms/step - loss: 0.5022 - accuracy: 0.7778\n",
            "Epoch 96/100\n",
            "7/7 [==============================] - 0s 5ms/step - loss: 0.5025 - accuracy: 0.7633\n",
            "Epoch 97/100\n",
            "7/7 [==============================] - 0s 5ms/step - loss: 0.5008 - accuracy: 0.7729\n",
            "Epoch 98/100\n",
            "7/7 [==============================] - 0s 4ms/step - loss: 0.5005 - accuracy: 0.7585\n",
            "Epoch 99/100\n",
            "7/7 [==============================] - 0s 5ms/step - loss: 0.4995 - accuracy: 0.7633\n",
            "Epoch 100/100\n",
            "7/7 [==============================] - 0s 4ms/step - loss: 0.4973 - accuracy: 0.7778\n"
          ]
        }
      ]
    },
    {
      "cell_type": "code",
      "source": [
        "#evaluate the model \n",
        "model_01.evaluate(X_test,y_test)"
      ],
      "metadata": {
        "colab": {
          "base_uri": "https://localhost:8080/"
        },
        "id": "2Wvu1kRG7u1u",
        "outputId": "2a778239-c0dd-4596-d1ea-0e44e97b7fad"
      },
      "execution_count": 287,
      "outputs": [
        {
          "output_type": "stream",
          "name": "stdout",
          "text": [
            "3/3 [==============================] - 0s 10ms/step - loss: 0.5470 - accuracy: 0.6889\n"
          ]
        },
        {
          "output_type": "execute_result",
          "data": {
            "text/plain": [
              "[0.546989381313324, 0.6888889074325562]"
            ]
          },
          "metadata": {},
          "execution_count": 287
        }
      ]
    },
    {
      "cell_type": "code",
      "source": [
        "# Plot Loss curve\n",
        "pd.DataFrame(history.history).plot()\n",
        "plt.ylabel(\"loss\")\n",
        "plt.xlabel(\"epochs\")\n",
        "plt.title(\"Model_01 training curves\");"
      ],
      "metadata": {
        "colab": {
          "base_uri": "https://localhost:8080/",
          "height": 295
        },
        "id": "oTIveFqm_dDb",
        "outputId": "1523852f-aa7f-443b-de37-5e0b3a80618b"
      },
      "execution_count": 288,
      "outputs": [
        {
          "output_type": "display_data",
          "data": {
            "text/plain": [
              "<Figure size 432x288 with 1 Axes>"
            ],
            "image/png": "[encoded data removed]"
          },
          "metadata": {
            "needs_background": "light"
          }
        }
      ]
    },
    {
      "cell_type": "markdown",
      "source": [
        "#Model_02"
      ],
      "metadata": {
        "id": "X-HW3zwmBeu0"
      }
    },
    {
      "cell_type": "code",
      "source": [
        "# Set random seed\n",
        "tf.random.set_seed(42)\n",
        "\n",
        "# Create a model\n",
        "model_02 = tf.keras.Sequential([\n",
        "  tf.keras.layers.Dense(4, activation=tf.keras.activations.relu), # hidden layer 1, ReLU activation\n",
        "  tf.keras.layers.Dense(4, activation=tf.keras.activations.relu), # hidden layer 2, ReLU activation\n",
        "  tf.keras.layers.Dense(4, activation=tf.keras.activations.relu), # hidden layer 2, ReLU activation\n",
        "  tf.keras.layers.Dense(4, activation=tf.keras.activations.relu), # hidden layer 2, ReLU activation\n",
        "  tf.keras.layers.Dense(4, activation=tf.keras.activations.relu), # hidden layer 2, ReLU activation\n",
        "  tf.keras.layers.Dense(4, activation=tf.keras.activations.relu), # hidden layer 2, ReLU activation\n",
        "  tf.keras.layers.Dense(4, activation=tf.keras.activations.relu), # hidden layer 2, ReLU activation\n",
        "  tf.keras.layers.Dense(4, activation=tf.keras.activations.relu), # hidden layer 2, ReLU activation\n",
        "  tf.keras.layers.Dense(4, activation=tf.keras.activations.relu), # hidden layer 2, ReLU activation\n",
        "  tf.keras.layers.Dense(4, activation=tf.keras.activations.relu), # hidden layer 2, ReLU activation\n",
        "  tf.keras.layers.Dense(4, activation=tf.keras.activations.relu), # hidden layer 2, ReLU activation\n",
        "  tf.keras.layers.Dense(4, activation=tf.keras.activations.relu), # hidden layer 2, ReLU activation\n",
        "  tf.keras.layers.Dense(4, activation=tf.keras.activations.relu), # hidden layer 2, ReLU activation\n",
        "  tf.keras.layers.Dense(1, activation=tf.keras.activations.sigmoid) # ouput layer, sigmoid activation\n",
        "])\n",
        "\n",
        "# Compile the model\n",
        "model_02.compile(loss=tf.keras.losses.binary_crossentropy,\n",
        "                optimizer=tf.keras.optimizers.Adam(),\n",
        "                metrics=['accuracy'])\n",
        "\n",
        "# Fit the model\n",
        "history = model_02.fit(X_train, y_train, epochs=100)"
      ],
      "metadata": {
        "colab": {
          "base_uri": "https://localhost:8080/"
        },
        "id": "FIKr_d1o76MN",
        "outputId": "9de1f419-16ba-4779-d11d-96d74e971137"
      },
      "execution_count": 289,
      "outputs": [
        {
          "output_type": "stream",
          "name": "stdout",
          "text": [
            "Epoch 1/100\n",
            "7/7 [==============================] - 3s 6ms/step - loss: 0.6932 - accuracy: 0.4831\n",
            "Epoch 2/100\n",
            "7/7 [==============================] - 0s 11ms/step - loss: 0.6930 - accuracy: 0.5411\n",
            "Epoch 3/100\n",
            "7/7 [==============================] - 0s 8ms/step - loss: 0.6928 - accuracy: 0.5411\n",
            "Epoch 4/100\n",
            "7/7 [==============================] - 0s 7ms/step - loss: 0.6926 - accuracy: 0.5411\n",
            "Epoch 5/100\n",
            "7/7 [==============================] - 0s 5ms/step - loss: 0.6925 - accuracy: 0.5411\n",
            "Epoch 6/100\n",
            "7/7 [==============================] - 0s 6ms/step - loss: 0.6924 - accuracy: 0.5411\n",
            "Epoch 7/100\n",
            "7/7 [==============================] - 0s 5ms/step - loss: 0.6923 - accuracy: 0.5411\n",
            "Epoch 8/100\n",
            "7/7 [==============================] - 0s 5ms/step - loss: 0.6922 - accuracy: 0.5411\n",
            "Epoch 9/100\n",
            "7/7 [==============================] - 0s 5ms/step - loss: 0.6921 - accuracy: 0.5411\n",
            "Epoch 10/100\n",
            "7/7 [==============================] - 0s 5ms/step - loss: 0.6921 - accuracy: 0.5411\n",
            "Epoch 11/100\n",
            "7/7 [==============================] - 0s 5ms/step - loss: 0.6920 - accuracy: 0.5411\n",
            "Epoch 12/100\n",
            "7/7 [==============================] - 0s 5ms/step - loss: 0.6919 - accuracy: 0.5411\n",
            "Epoch 13/100\n",
            "7/7 [==============================] - 0s 6ms/step - loss: 0.6918 - accuracy: 0.5411\n",
            "Epoch 14/100\n",
            "7/7 [==============================] - 0s 5ms/step - loss: 0.6917 - accuracy: 0.5411\n",
            "Epoch 15/100\n",
            "7/7 [==============================] - 0s 6ms/step - loss: 0.6917 - accuracy: 0.5411\n",
            "Epoch 16/100\n",
            "7/7 [==============================] - 0s 5ms/step - loss: 0.6916 - accuracy: 0.5411\n",
            "Epoch 17/100\n",
            "7/7 [==============================] - 0s 6ms/step - loss: 0.6915 - accuracy: 0.5411\n",
            "Epoch 18/100\n",
            "7/7 [==============================] - 0s 5ms/step - loss: 0.6915 - accuracy: 0.5411\n",
            "Epoch 19/100\n",
            "7/7 [==============================] - 0s 7ms/step - loss: 0.6914 - accuracy: 0.5411\n",
            "Epoch 20/100\n",
            "7/7 [==============================] - 0s 6ms/step - loss: 0.6914 - accuracy: 0.5411\n",
            "Epoch 21/100\n",
            "7/7 [==============================] - 0s 6ms/step - loss: 0.6913 - accuracy: 0.5411\n",
            "Epoch 22/100\n",
            "7/7 [==============================] - 0s 10ms/step - loss: 0.6912 - accuracy: 0.5411\n",
            "Epoch 23/100\n",
            "7/7 [==============================] - 0s 7ms/step - loss: 0.6912 - accuracy: 0.5411\n",
            "Epoch 24/100\n",
            "7/7 [==============================] - 0s 5ms/step - loss: 0.6911 - accuracy: 0.5411\n",
            "Epoch 25/100\n",
            "7/7 [==============================] - 0s 5ms/step - loss: 0.6911 - accuracy: 0.5411\n",
            "Epoch 26/100\n",
            "7/7 [==============================] - 0s 5ms/step - loss: 0.6911 - accuracy: 0.5411\n",
            "Epoch 27/100\n",
            "7/7 [==============================] - 0s 5ms/step - loss: 0.6910 - accuracy: 0.5411\n",
            "Epoch 28/100\n",
            "7/7 [==============================] - 0s 8ms/step - loss: 0.6910 - accuracy: 0.5411\n",
            "Epoch 29/100\n",
            "7/7 [==============================] - 0s 10ms/step - loss: 0.6910 - accuracy: 0.5411\n",
            "Epoch 30/100\n",
            "7/7 [==============================] - 0s 7ms/step - loss: 0.6910 - accuracy: 0.5411\n",
            "Epoch 31/100\n",
            "7/7 [==============================] - 0s 5ms/step - loss: 0.6909 - accuracy: 0.5411\n",
            "Epoch 32/100\n",
            "7/7 [==============================] - 0s 5ms/step - loss: 0.6909 - accuracy: 0.5411\n",
            "Epoch 33/100\n",
            "7/7 [==============================] - 0s 5ms/step - loss: 0.6908 - accuracy: 0.5411\n",
            "Epoch 34/100\n",
            "7/7 [==============================] - 0s 5ms/step - loss: 0.6908 - accuracy: 0.5411\n",
            "Epoch 35/100\n",
            "7/7 [==============================] - 0s 6ms/step - loss: 0.6907 - accuracy: 0.5411\n",
            "Epoch 36/100\n",
            "7/7 [==============================] - 0s 5ms/step - loss: 0.6907 - accuracy: 0.5411\n",
            "Epoch 37/100\n",
            "7/7 [==============================] - 0s 5ms/step - loss: 0.6907 - accuracy: 0.5411\n",
            "Epoch 38/100\n",
            "7/7 [==============================] - 0s 6ms/step - loss: 0.6907 - accuracy: 0.5411\n",
            "Epoch 39/100\n",
            "7/7 [==============================] - 0s 5ms/step - loss: 0.6906 - accuracy: 0.5411\n",
            "Epoch 40/100\n",
            "7/7 [==============================] - 0s 8ms/step - loss: 0.6906 - accuracy: 0.5411\n",
            "Epoch 41/100\n",
            "7/7 [==============================] - 0s 7ms/step - loss: 0.6906 - accuracy: 0.5411\n",
            "Epoch 42/100\n",
            "7/7 [==============================] - 0s 6ms/step - loss: 0.6905 - accuracy: 0.5411\n",
            "Epoch 43/100\n",
            "7/7 [==============================] - 0s 5ms/step - loss: 0.6905 - accuracy: 0.5411\n",
            "Epoch 44/100\n",
            "7/7 [==============================] - 0s 5ms/step - loss: 0.6904 - accuracy: 0.5411\n",
            "Epoch 45/100\n",
            "7/7 [==============================] - 0s 5ms/step - loss: 0.6904 - accuracy: 0.5411\n",
            "Epoch 46/100\n",
            "7/7 [==============================] - 0s 5ms/step - loss: 0.6904 - accuracy: 0.5411\n",
            "Epoch 47/100\n",
            "7/7 [==============================] - 0s 7ms/step - loss: 0.6904 - accuracy: 0.5411\n",
            "Epoch 48/100\n",
            "7/7 [==============================] - 0s 7ms/step - loss: 0.6904 - accuracy: 0.5411\n",
            "Epoch 49/100\n",
            "7/7 [==============================] - 0s 8ms/step - loss: 0.6903 - accuracy: 0.5411\n",
            "Epoch 50/100\n",
            "7/7 [==============================] - 0s 8ms/step - loss: 0.6903 - accuracy: 0.5411\n",
            "Epoch 51/100\n",
            "7/7 [==============================] - 0s 7ms/step - loss: 0.6903 - accuracy: 0.5411\n",
            "Epoch 52/100\n",
            "7/7 [==============================] - 0s 5ms/step - loss: 0.6903 - accuracy: 0.5411\n",
            "Epoch 53/100\n",
            "7/7 [==============================] - 0s 5ms/step - loss: 0.6903 - accuracy: 0.5411\n",
            "Epoch 54/100\n",
            "7/7 [==============================] - 0s 9ms/step - loss: 0.6902 - accuracy: 0.5411\n",
            "Epoch 55/100\n",
            "7/7 [==============================] - 0s 10ms/step - loss: 0.6902 - accuracy: 0.5411\n",
            "Epoch 56/100\n",
            "7/7 [==============================] - 0s 6ms/step - loss: 0.6902 - accuracy: 0.5411\n",
            "Epoch 57/100\n",
            "7/7 [==============================] - 0s 6ms/step - loss: 0.6902 - accuracy: 0.5411\n",
            "Epoch 58/100\n",
            "7/7 [==============================] - 0s 8ms/step - loss: 0.6902 - accuracy: 0.5411\n",
            "Epoch 59/100\n",
            "7/7 [==============================] - 0s 5ms/step - loss: 0.6902 - accuracy: 0.5411\n",
            "Epoch 60/100\n",
            "7/7 [==============================] - 0s 6ms/step - loss: 0.6901 - accuracy: 0.5411\n",
            "Epoch 61/100\n",
            "7/7 [==============================] - 0s 6ms/step - loss: 0.6901 - accuracy: 0.5411\n",
            "Epoch 62/100\n",
            "7/7 [==============================] - 0s 5ms/step - loss: 0.6901 - accuracy: 0.5411\n",
            "Epoch 63/100\n",
            "7/7 [==============================] - 0s 5ms/step - loss: 0.6901 - accuracy: 0.5411\n",
            "Epoch 64/100\n",
            "7/7 [==============================] - 0s 13ms/step - loss: 0.6901 - accuracy: 0.5411\n",
            "Epoch 65/100\n",
            "7/7 [==============================] - 0s 8ms/step - loss: 0.6901 - accuracy: 0.5411\n",
            "Epoch 66/100\n",
            "7/7 [==============================] - 0s 5ms/step - loss: 0.6900 - accuracy: 0.5411\n",
            "Epoch 67/100\n",
            "7/7 [==============================] - 0s 7ms/step - loss: 0.6900 - accuracy: 0.5411\n",
            "Epoch 68/100\n",
            "7/7 [==============================] - 0s 7ms/step - loss: 0.6900 - accuracy: 0.5411\n",
            "Epoch 69/100\n",
            "7/7 [==============================] - 0s 11ms/step - loss: 0.6900 - accuracy: 0.5411\n",
            "Epoch 70/100\n",
            "7/7 [==============================] - 0s 11ms/step - loss: 0.6900 - accuracy: 0.5411\n",
            "Epoch 71/100\n",
            "7/7 [==============================] - 0s 12ms/step - loss: 0.6900 - accuracy: 0.5411\n",
            "Epoch 72/100\n",
            "7/7 [==============================] - 0s 12ms/step - loss: 0.6900 - accuracy: 0.5411\n",
            "Epoch 73/100\n",
            "7/7 [==============================] - 0s 10ms/step - loss: 0.6900 - accuracy: 0.5411\n",
            "Epoch 74/100\n",
            "7/7 [==============================] - 0s 12ms/step - loss: 0.6900 - accuracy: 0.5411\n",
            "Epoch 75/100\n",
            "7/7 [==============================] - 0s 5ms/step - loss: 0.6900 - accuracy: 0.5411\n",
            "Epoch 76/100\n",
            "7/7 [==============================] - 0s 6ms/step - loss: 0.6900 - accuracy: 0.5411\n",
            "Epoch 77/100\n",
            "7/7 [==============================] - 0s 14ms/step - loss: 0.6899 - accuracy: 0.5411\n",
            "Epoch 78/100\n",
            "7/7 [==============================] - 0s 5ms/step - loss: 0.6899 - accuracy: 0.5411\n",
            "Epoch 79/100\n",
            "7/7 [==============================] - 0s 5ms/step - loss: 0.6900 - accuracy: 0.5411\n",
            "Epoch 80/100\n",
            "7/7 [==============================] - 0s 6ms/step - loss: 0.6899 - accuracy: 0.5411\n",
            "Epoch 81/100\n",
            "7/7 [==============================] - 0s 6ms/step - loss: 0.6900 - accuracy: 0.5411\n",
            "Epoch 82/100\n",
            "7/7 [==============================] - 0s 5ms/step - loss: 0.6899 - accuracy: 0.5411\n",
            "Epoch 83/100\n",
            "7/7 [==============================] - 0s 5ms/step - loss: 0.6899 - accuracy: 0.5411\n",
            "Epoch 84/100\n",
            "7/7 [==============================] - 0s 6ms/step - loss: 0.6899 - accuracy: 0.5411\n",
            "Epoch 85/100\n",
            "7/7 [==============================] - 0s 8ms/step - loss: 0.6899 - accuracy: 0.5411\n",
            "Epoch 86/100\n",
            "7/7 [==============================] - 0s 13ms/step - loss: 0.6899 - accuracy: 0.5411\n",
            "Epoch 87/100\n",
            "7/7 [==============================] - 0s 16ms/step - loss: 0.6899 - accuracy: 0.5411\n",
            "Epoch 88/100\n",
            "7/7 [==============================] - 0s 10ms/step - loss: 0.6899 - accuracy: 0.5411\n",
            "Epoch 89/100\n",
            "7/7 [==============================] - 0s 6ms/step - loss: 0.6899 - accuracy: 0.5411\n",
            "Epoch 90/100\n",
            "7/7 [==============================] - 0s 6ms/step - loss: 0.6899 - accuracy: 0.5411\n",
            "Epoch 91/100\n",
            "7/7 [==============================] - 0s 5ms/step - loss: 0.6899 - accuracy: 0.5411\n",
            "Epoch 92/100\n",
            "7/7 [==============================] - 0s 11ms/step - loss: 0.6899 - accuracy: 0.5411\n",
            "Epoch 93/100\n",
            "7/7 [==============================] - 0s 7ms/step - loss: 0.6899 - accuracy: 0.5411\n",
            "Epoch 94/100\n",
            "7/7 [==============================] - 0s 8ms/step - loss: 0.6899 - accuracy: 0.5411\n",
            "Epoch 95/100\n",
            "7/7 [==============================] - 0s 9ms/step - loss: 0.6899 - accuracy: 0.5411\n",
            "Epoch 96/100\n",
            "7/7 [==============================] - 0s 10ms/step - loss: 0.6899 - accuracy: 0.5411\n",
            "Epoch 97/100\n",
            "7/7 [==============================] - 0s 10ms/step - loss: 0.6899 - accuracy: 0.5411\n",
            "Epoch 98/100\n",
            "7/7 [==============================] - 0s 11ms/step - loss: 0.6899 - accuracy: 0.5411\n",
            "Epoch 99/100\n",
            "7/7 [==============================] - 0s 5ms/step - loss: 0.6899 - accuracy: 0.5411\n",
            "Epoch 100/100\n",
            "7/7 [==============================] - 0s 5ms/step - loss: 0.6899 - accuracy: 0.5411\n"
          ]
        }
      ]
    },
    {
      "cell_type": "code",
      "source": [
        "model_02.evaluate(X_test , y_test)"
      ],
      "metadata": {
        "colab": {
          "base_uri": "https://localhost:8080/"
        },
        "id": "aPHHrKCh8uOk",
        "outputId": "2aa9bc43-37b9-4ec5-b49d-f329a3f63b11"
      },
      "execution_count": 290,
      "outputs": [
        {
          "output_type": "stream",
          "name": "stdout",
          "text": [
            "3/3 [==============================] - 1s 7ms/step - loss: 0.6909 - accuracy: 0.5333\n"
          ]
        },
        {
          "output_type": "execute_result",
          "data": {
            "text/plain": [
              "[0.6909278631210327, 0.5333333611488342]"
            ]
          },
          "metadata": {},
          "execution_count": 290
        }
      ]
    },
    {
      "cell_type": "code",
      "source": [
        "# Plot Loss curve\n",
        "pd.DataFrame(history.history).plot()\n",
        "plt.ylabel(\"loss\")\n",
        "plt.xlabel(\"epochs\")\n",
        "plt.title(\"Model_02 training curves\");"
      ],
      "metadata": {
        "colab": {
          "base_uri": "https://localhost:8080/",
          "height": 295
        },
        "id": "XmvKR_0-96NS",
        "outputId": "7d3b3c2b-70cd-44cc-9b09-90951045a4d7"
      },
      "execution_count": 291,
      "outputs": [
        {
          "output_type": "display_data",
          "data": {
            "text/plain": [
              "<Figure size 432x288 with 1 Axes>"
            ],
            "image/png": "[encoded data removed]"
          },
          "metadata": {
            "needs_background": "light"
          }
        }
      ]
    },
    {
      "cell_type": "markdown",
      "source": [
        "#Model_03"
      ],
      "metadata": {
        "id": "DBaHc0S1BoQ3"
      }
    },
    {
      "cell_type": "code",
      "source": [
        "# Set random seed\n",
        "tf.random.set_seed(42)\n",
        "\n",
        "# Create the model (same as model_7)\n",
        "model_03 = tf.keras.Sequential([\n",
        "  tf.keras.layers.Dense(4, activation=\"relu\"), # hidden layer 1, using \"relu\" for activation (same as tf.keras.activations.relu)\n",
        "  tf.keras.layers.Dense(4, activation=\"relu\"),\n",
        "  tf.keras.layers.Dense(1, activation=\"sigmoid\") # output layer, using 'sigmoid' for the output\n",
        "])\n",
        "\n",
        "# Compile the model\n",
        "model_03.compile(loss=tf.keras.losses.binary_crossentropy,\n",
        "                optimizer=tf.keras.optimizers.Adam(lr=0.01), # increase learning rate from 0.001 to 0.01 for faster learning\n",
        "                metrics=['accuracy'])\n",
        "\n",
        "# Fit the model\n",
        "history = model_03.fit(X_train, y_train, epochs=100 , verbose=0)"
      ],
      "metadata": {
        "colab": {
          "base_uri": "https://localhost:8080/"
        },
        "id": "z37jLcABBqTW",
        "outputId": "d42ba9ec-84ec-4133-85d6-f19f6be28860"
      },
      "execution_count": 292,
      "outputs": [
        {
          "output_type": "stream",
          "name": "stderr",
          "text": [
            "/usr/local/lib/python3.7/dist-packages/keras/optimizers/optimizer_v2/adam.py:110: UserWarning: The `lr` argument is deprecated, use `learning_rate` instead.\n",
            "  super(Adam, self).__init__(name, **kwargs)\n"
          ]
        }
      ]
    },
    {
      "cell_type": "code",
      "source": [
        "model_03.evaluate(X_test , y_test)"
      ],
      "metadata": {
        "colab": {
          "base_uri": "https://localhost:8080/"
        },
        "id": "aJItOTErB98y",
        "outputId": "c3b8ce4c-28b9-4884-e2bb-b2c1f743da70"
      },
      "execution_count": 293,
      "outputs": [
        {
          "output_type": "stream",
          "name": "stdout",
          "text": [
            "3/3 [==============================] - 0s 4ms/step - loss: 0.4460 - accuracy: 0.7889\n"
          ]
        },
        {
          "output_type": "execute_result",
          "data": {
            "text/plain": [
              "[0.44599655270576477, 0.7888888716697693]"
            ]
          },
          "metadata": {},
          "execution_count": 293
        }
      ]
    },
    {
      "cell_type": "markdown",
      "source": [
        "#Model_04"
      ],
      "metadata": {
        "id": "Zx1cHvDDCW_K"
      }
    },
    {
      "cell_type": "code",
      "source": [
        "# Set random seed\n",
        "tf.random.set_seed(42)\n",
        "\n",
        "# Create the model (same as model_7)\n",
        "model_04 = tf.keras.Sequential([\n",
        "  tf.keras.layers.Dense(100, activation=\"relu\"), # hidden layer 1, using \"relu\" for activation (same as tf.keras.activations.relu)\n",
        "  tf.keras.layers.Dense(10, activation=\"relu\"),\n",
        "  tf.keras.layers.Dense(1, activation=\"sigmoid\") # output layer, using 'sigmoid' for the output\n",
        "])\n",
        "\n",
        "# Compile the model\n",
        "model_04.compile(loss=tf.keras.losses.binary_crossentropy,\n",
        "                optimizer=tf.keras.optimizers.Adam(lr=0.001), # increase learning rate from 0.001 to 0.01 for faster learning\n",
        "                metrics=['accuracy'])\n",
        "\n",
        "# Fit the model\n",
        "history = model_04.fit(X_train, y_train, epochs=250 , verbose=0)"
      ],
      "metadata": {
        "colab": {
          "base_uri": "https://localhost:8080/"
        },
        "id": "6qp2OpscELd-",
        "outputId": "a28a973b-69f1-4a72-f5b9-cecbdf61fbda"
      },
      "execution_count": 294,
      "outputs": [
        {
          "output_type": "stream",
          "name": "stderr",
          "text": [
            "/usr/local/lib/python3.7/dist-packages/keras/optimizers/optimizer_v2/adam.py:110: UserWarning: The `lr` argument is deprecated, use `learning_rate` instead.\n",
            "  super(Adam, self).__init__(name, **kwargs)\n"
          ]
        }
      ]
    },
    {
      "cell_type": "code",
      "source": [
        "model_04.evaluate(X_test , y_test)"
      ],
      "metadata": {
        "colab": {
          "base_uri": "https://localhost:8080/"
        },
        "id": "xdw60YifEofU",
        "outputId": "af7e6bc3-f719-4f0f-b3ea-b0fa2eec7827"
      },
      "execution_count": 295,
      "outputs": [
        {
          "output_type": "stream",
          "name": "stdout",
          "text": [
            "3/3 [==============================] - 0s 4ms/step - loss: 0.4945 - accuracy: 0.7889\n"
          ]
        },
        {
          "output_type": "execute_result",
          "data": {
            "text/plain": [
              "[0.49454477429389954, 0.7888888716697693]"
            ]
          },
          "metadata": {},
          "execution_count": 295
        }
      ]
    },
    {
      "cell_type": "markdown",
      "source": [
        "#Model_05"
      ],
      "metadata": {
        "id": "mE8WcyjwEs9T"
      }
    },
    {
      "cell_type": "code",
      "source": [
        "# Set random seed\n",
        "tf.random.set_seed(42)\n",
        "\n",
        "# Create the model (same as model_7)\n",
        "model_05 = tf.keras.Sequential([\n",
        "  tf.keras.layers.Dense(10, activation=\"relu\"), # hidden layer 1, using \"relu\" for activation (same as tf.keras.activations.relu)\n",
        "  tf.keras.layers.Dense(10, activation=\"relu\"),\n",
        "  tf.keras.layers.Dense(10, activation=\"relu\"),\n",
        "#   tf.keras.layers.Dense(10, activation=\"relu\"),\n",
        "  tf.keras.layers.Dense(1, activation=\"sigmoid\") # output layer, using 'sigmoid' for the output\n",
        "])\n",
        "\n",
        "# Compile the model\n",
        "model_05.compile(loss=tf.keras.losses.binary_crossentropy,\n",
        "                optimizer=tf.keras.optimizers.Adam(lr=0.001), # increase learning rate from 0.001 to 0.01 for faster learning\n",
        "                metrics=['accuracy'])\n",
        "\n",
        "# Fit the model\n",
        "history = model_05.fit(X_train, y_train, epochs=250 , verbose=0)"
      ],
      "metadata": {
        "colab": {
          "base_uri": "https://localhost:8080/"
        },
        "id": "m5qSG8ZSFbVP",
        "outputId": "1fbedecb-57fd-4f9b-8a45-e84d1e41989f"
      },
      "execution_count": 296,
      "outputs": [
        {
          "output_type": "stream",
          "name": "stderr",
          "text": [
            "/usr/local/lib/python3.7/dist-packages/keras/optimizers/optimizer_v2/adam.py:110: UserWarning: The `lr` argument is deprecated, use `learning_rate` instead.\n",
            "  super(Adam, self).__init__(name, **kwargs)\n"
          ]
        }
      ]
    },
    {
      "cell_type": "code",
      "source": [
        "model_05.evaluate(X_test , y_test)"
      ],
      "metadata": {
        "colab": {
          "base_uri": "https://localhost:8080/"
        },
        "id": "dI0pqmRRGQ5f",
        "outputId": "fa75e9ac-69e6-4145-e53f-68f80861400e"
      },
      "execution_count": 297,
      "outputs": [
        {
          "output_type": "stream",
          "name": "stdout",
          "text": [
            "3/3 [==============================] - 0s 4ms/step - loss: 0.4437 - accuracy: 0.7889\n"
          ]
        },
        {
          "output_type": "execute_result",
          "data": {
            "text/plain": [
              "[0.4436635375022888, 0.7888888716697693]"
            ]
          },
          "metadata": {},
          "execution_count": 297
        }
      ]
    },
    {
      "cell_type": "code",
      "source": [
        "# Plot Loss curve\n",
        "pd.DataFrame(history.history).plot()\n",
        "plt.ylabel(\"loss\")\n",
        "plt.xlabel(\"epochs\")\n",
        "plt.title(\"Model_05 training curves\");"
      ],
      "metadata": {
        "colab": {
          "base_uri": "https://localhost:8080/",
          "height": 295
        },
        "id": "eZNGoTYjGVzS",
        "outputId": "48ab1de8-a28c-459f-c951-63cf02a82213"
      },
      "execution_count": 298,
      "outputs": [
        {
          "output_type": "display_data",
          "data": {
            "text/plain": [
              "<Figure size 432x288 with 1 Axes>"
            ],
            "image/png": "[encoded data removed]"
          },
          "metadata": {
            "needs_background": "light"
          }
        }
      ]
    },
    {
      "cell_type": "markdown",
      "source": [
        "## our model is giving highest accuracy of 75% lets find good learning rate to increase the accuracy"
      ],
      "metadata": {
        "id": "JAlf3R_4Hr7g"
      }
    },
    {
      "cell_type": "markdown",
      "source": [
        "# Model_06"
      ],
      "metadata": {
        "id": "ZD6mFkKcIQjO"
      }
    },
    {
      "cell_type": "code",
      "source": [
        "# Set random seed\n",
        "tf.random.set_seed(42)\n",
        "\n",
        "# Create the model (same as model_7)\n",
        "model_06 = tf.keras.Sequential([\n",
        "  tf.keras.layers.Dense(10, activation=\"relu\"), # hidden layer 1, using \"relu\" for activation (same as tf.keras.activations.relu)\n",
        "  tf.keras.layers.Dense(10, activation=\"relu\"),\n",
        "  tf.keras.layers.Dense(10, activation=\"relu\"),\n",
        "  tf.keras.layers.Dense(1, activation=\"sigmoid\") # output layer, using 'sigmoid' for the output\n",
        "])\n",
        "\n",
        "# Compile the model\n",
        "model_06.compile(loss=\"binary_crossentropy\",\n",
        "                optimizer= \"Adam\",\n",
        "                metrics=[\"accuracy\"])\n",
        "\n",
        "# creating a learning rate scheduler callback\n",
        "lr_scheduler = tf.keras.callbacks.LearningRateScheduler(lambda epoch: 1e-4 * 10**(epoch/20)) # traverse a set of learning rate values starting from 1e-4, increasing by 10**(epoch/20) every epoch\n",
        "\n",
        "# Fit the model\n",
        "history = model_06.fit(X_train, y_train, epochs=250 ,callbacks = [lr_scheduler])"
      ],
      "metadata": {
        "colab": {
          "base_uri": "https://localhost:8080/"
        },
        "id": "tMrk5EQNIe56",
        "outputId": "f55d06d0-ec5d-49a0-8972-32296e1475ae"
      },
      "execution_count": 299,
      "outputs": [
        {
          "output_type": "stream",
          "name": "stdout",
          "text": [
            "Epoch 1/250\n",
            "7/7 [==============================] - 1s 3ms/step - loss: 1.8621 - accuracy: 0.4010 - lr: 1.0000e-04\n",
            "Epoch 2/250\n",
            "7/7 [==============================] - 0s 3ms/step - loss: 1.5450 - accuracy: 0.3430 - lr: 1.1220e-04\n",
            "Epoch 3/250\n",
            "7/7 [==============================] - 0s 3ms/step - loss: 1.4577 - accuracy: 0.3865 - lr: 1.2589e-04\n",
            "Epoch 4/250\n",
            "7/7 [==============================] - 0s 3ms/step - loss: 1.3829 - accuracy: 0.3575 - lr: 1.4125e-04\n",
            "Epoch 5/250\n",
            "7/7 [==============================] - 0s 3ms/step - loss: 1.2891 - accuracy: 0.3671 - lr: 1.5849e-04\n",
            "Epoch 6/250\n",
            "7/7 [==============================] - 0s 3ms/step - loss: 1.2451 - accuracy: 0.3575 - lr: 1.7783e-04\n",
            "Epoch 7/250\n",
            "7/7 [==============================] - 0s 4ms/step - loss: 1.1981 - accuracy: 0.3527 - lr: 1.9953e-04\n",
            "Epoch 8/250\n",
            "7/7 [==============================] - 0s 3ms/step - loss: 1.1511 - accuracy: 0.3816 - lr: 2.2387e-04\n",
            "Epoch 9/250\n",
            "7/7 [==============================] - 0s 3ms/step - loss: 1.1072 - accuracy: 0.3865 - lr: 2.5119e-04\n",
            "Epoch 10/250\n",
            "7/7 [==============================] - 0s 5ms/step - loss: 1.0717 - accuracy: 0.4251 - lr: 2.8184e-04\n",
            "Epoch 11/250\n",
            "7/7 [==============================] - 0s 4ms/step - loss: 1.0042 - accuracy: 0.4106 - lr: 3.1623e-04\n",
            "Epoch 12/250\n",
            "7/7 [==============================] - 0s 3ms/step - loss: 0.9616 - accuracy: 0.4058 - lr: 3.5481e-04\n",
            "Epoch 13/250\n",
            "7/7 [==============================] - 0s 4ms/step - loss: 0.9571 - accuracy: 0.4783 - lr: 3.9811e-04\n",
            "Epoch 14/250\n",
            "7/7 [==============================] - 0s 5ms/step - loss: 0.8906 - accuracy: 0.4444 - lr: 4.4668e-04\n",
            "Epoch 15/250\n",
            "7/7 [==============================] - 0s 3ms/step - loss: 0.8369 - accuracy: 0.5072 - lr: 5.0119e-04\n",
            "Epoch 16/250\n",
            "7/7 [==============================] - 0s 3ms/step - loss: 0.8181 - accuracy: 0.4686 - lr: 5.6234e-04\n",
            "Epoch 17/250\n",
            "7/7 [==============================] - 0s 3ms/step - loss: 0.8095 - accuracy: 0.5169 - lr: 6.3096e-04\n",
            "Epoch 18/250\n",
            "7/7 [==============================] - 0s 4ms/step - loss: 0.7770 - accuracy: 0.5362 - lr: 7.0795e-04\n",
            "Epoch 19/250\n",
            "7/7 [==============================] - 0s 3ms/step - loss: 0.7568 - accuracy: 0.5700 - lr: 7.9433e-04\n",
            "Epoch 20/250\n",
            "7/7 [==============================] - 0s 3ms/step - loss: 0.7172 - accuracy: 0.6039 - lr: 8.9125e-04\n",
            "Epoch 21/250\n",
            "7/7 [==============================] - 0s 3ms/step - loss: 0.7997 - accuracy: 0.5797 - lr: 0.0010\n",
            "Epoch 22/250\n",
            "7/7 [==============================] - 0s 4ms/step - loss: 0.7812 - accuracy: 0.5797 - lr: 0.0011\n",
            "Epoch 23/250\n",
            "7/7 [==============================] - 0s 4ms/step - loss: 0.7378 - accuracy: 0.6280 - lr: 0.0013\n",
            "Epoch 24/250\n",
            "7/7 [==============================] - 0s 4ms/step - loss: 0.7204 - accuracy: 0.5990 - lr: 0.0014\n",
            "Epoch 25/250\n",
            "7/7 [==============================] - 0s 3ms/step - loss: 0.7051 - accuracy: 0.6522 - lr: 0.0016\n",
            "Epoch 26/250\n",
            "7/7 [==============================] - 0s 3ms/step - loss: 0.8125 - accuracy: 0.5749 - lr: 0.0018\n",
            "Epoch 27/250\n",
            "7/7 [==============================] - 0s 3ms/step - loss: 1.1119 - accuracy: 0.5217 - lr: 0.0020\n",
            "Epoch 28/250\n",
            "7/7 [==============================] - 0s 3ms/step - loss: 0.7801 - accuracy: 0.5990 - lr: 0.0022\n",
            "Epoch 29/250\n",
            "7/7 [==============================] - 0s 3ms/step - loss: 0.7059 - accuracy: 0.6425 - lr: 0.0025\n",
            "Epoch 30/250\n",
            "7/7 [==============================] - 0s 4ms/step - loss: 0.6264 - accuracy: 0.6957 - lr: 0.0028\n",
            "Epoch 31/250\n",
            "7/7 [==============================] - 0s 3ms/step - loss: 0.5586 - accuracy: 0.7391 - lr: 0.0032\n",
            "Epoch 32/250\n",
            "7/7 [==============================] - 0s 4ms/step - loss: 0.6609 - accuracy: 0.6473 - lr: 0.0035\n",
            "Epoch 33/250\n",
            "7/7 [==============================] - 0s 4ms/step - loss: 0.6459 - accuracy: 0.6473 - lr: 0.0040\n",
            "Epoch 34/250\n",
            "7/7 [==============================] - 0s 3ms/step - loss: 0.7379 - accuracy: 0.6039 - lr: 0.0045\n",
            "Epoch 35/250\n",
            "7/7 [==============================] - 0s 3ms/step - loss: 1.0175 - accuracy: 0.5652 - lr: 0.0050\n",
            "Epoch 36/250\n",
            "7/7 [==============================] - 0s 3ms/step - loss: 0.8919 - accuracy: 0.6135 - lr: 0.0056\n",
            "Epoch 37/250\n",
            "7/7 [==============================] - 0s 4ms/step - loss: 0.7221 - accuracy: 0.6329 - lr: 0.0063\n",
            "Epoch 38/250\n",
            "7/7 [==============================] - 0s 3ms/step - loss: 0.5643 - accuracy: 0.6908 - lr: 0.0071\n",
            "Epoch 39/250\n",
            "7/7 [==============================] - 0s 3ms/step - loss: 0.5050 - accuracy: 0.7633 - lr: 0.0079\n",
            "Epoch 40/250\n",
            "7/7 [==============================] - 0s 4ms/step - loss: 0.5023 - accuracy: 0.7633 - lr: 0.0089\n",
            "Epoch 41/250\n",
            "7/7 [==============================] - 0s 3ms/step - loss: 0.7694 - accuracy: 0.6425 - lr: 0.0100\n",
            "Epoch 42/250\n",
            "7/7 [==============================] - 0s 3ms/step - loss: 0.8017 - accuracy: 0.6425 - lr: 0.0112\n",
            "Epoch 43/250\n",
            "7/7 [==============================] - 0s 4ms/step - loss: 0.8840 - accuracy: 0.6812 - lr: 0.0126\n",
            "Epoch 44/250\n",
            "7/7 [==============================] - 0s 4ms/step - loss: 0.9889 - accuracy: 0.6522 - lr: 0.0141\n",
            "Epoch 45/250\n",
            "7/7 [==============================] - 0s 4ms/step - loss: 1.4561 - accuracy: 0.5990 - lr: 0.0158\n",
            "Epoch 46/250\n",
            "7/7 [==============================] - 0s 4ms/step - loss: 1.2665 - accuracy: 0.5797 - lr: 0.0178\n",
            "Epoch 47/250\n",
            "7/7 [==============================] - 0s 4ms/step - loss: 1.0654 - accuracy: 0.6087 - lr: 0.0200\n",
            "Epoch 48/250\n",
            "7/7 [==============================] - 0s 5ms/step - loss: 1.4026 - accuracy: 0.5314 - lr: 0.0224\n",
            "Epoch 49/250\n",
            "7/7 [==============================] - 0s 4ms/step - loss: 0.7881 - accuracy: 0.5894 - lr: 0.0251\n",
            "Epoch 50/250\n",
            "7/7 [==============================] - 0s 4ms/step - loss: 0.6759 - accuracy: 0.6280 - lr: 0.0282\n",
            "Epoch 51/250\n",
            "7/7 [==============================] - 0s 4ms/step - loss: 0.6026 - accuracy: 0.7150 - lr: 0.0316\n",
            "Epoch 52/250\n",
            "7/7 [==============================] - 0s 4ms/step - loss: 0.5177 - accuracy: 0.7343 - lr: 0.0355\n",
            "Epoch 53/250\n",
            "7/7 [==============================] - 0s 3ms/step - loss: 0.4877 - accuracy: 0.7826 - lr: 0.0398\n",
            "Epoch 54/250\n",
            "7/7 [==============================] - 0s 4ms/step - loss: 0.4553 - accuracy: 0.7971 - lr: 0.0447\n",
            "Epoch 55/250\n",
            "7/7 [==============================] - 0s 4ms/step - loss: 0.4446 - accuracy: 0.8116 - lr: 0.0501\n",
            "Epoch 56/250\n",
            "7/7 [==============================] - 0s 3ms/step - loss: 0.5217 - accuracy: 0.7729 - lr: 0.0562\n",
            "Epoch 57/250\n",
            "7/7 [==============================] - 0s 3ms/step - loss: 0.5021 - accuracy: 0.7681 - lr: 0.0631\n",
            "Epoch 58/250\n",
            "7/7 [==============================] - 0s 4ms/step - loss: 0.6639 - accuracy: 0.6667 - lr: 0.0708\n",
            "Epoch 59/250\n",
            "7/7 [==============================] - 0s 3ms/step - loss: 0.5780 - accuracy: 0.7295 - lr: 0.0794\n",
            "Epoch 60/250\n",
            "7/7 [==============================] - 0s 4ms/step - loss: 0.4785 - accuracy: 0.7681 - lr: 0.0891\n",
            "Epoch 61/250\n",
            "7/7 [==============================] - 0s 3ms/step - loss: 0.6115 - accuracy: 0.6570 - lr: 0.1000\n",
            "Epoch 62/250\n",
            "7/7 [==============================] - 0s 3ms/step - loss: 0.4576 - accuracy: 0.8261 - lr: 0.1122\n",
            "Epoch 63/250\n",
            "7/7 [==============================] - 0s 3ms/step - loss: 0.5000 - accuracy: 0.7633 - lr: 0.1259\n",
            "Epoch 64/250\n",
            "7/7 [==============================] - 0s 3ms/step - loss: 0.5565 - accuracy: 0.7295 - lr: 0.1413\n",
            "Epoch 65/250\n",
            "7/7 [==============================] - 0s 3ms/step - loss: 0.6536 - accuracy: 0.6522 - lr: 0.1585\n",
            "Epoch 66/250\n",
            "7/7 [==============================] - 0s 3ms/step - loss: 0.4762 - accuracy: 0.7488 - lr: 0.1778\n",
            "Epoch 67/250\n",
            "7/7 [==============================] - 0s 4ms/step - loss: 0.5771 - accuracy: 0.6860 - lr: 0.1995\n",
            "Epoch 68/250\n",
            "7/7 [==============================] - 0s 5ms/step - loss: 0.5022 - accuracy: 0.7633 - lr: 0.2239\n",
            "Epoch 69/250\n",
            "7/7 [==============================] - 0s 3ms/step - loss: 0.5131 - accuracy: 0.8309 - lr: 0.2512\n",
            "Epoch 70/250\n",
            "7/7 [==============================] - 0s 4ms/step - loss: 0.9308 - accuracy: 0.5459 - lr: 0.2818\n",
            "Epoch 71/250\n",
            "7/7 [==============================] - 0s 3ms/step - loss: 0.7194 - accuracy: 0.5411 - lr: 0.3162\n",
            "Epoch 72/250\n",
            "7/7 [==============================] - 0s 3ms/step - loss: 0.6963 - accuracy: 0.5459 - lr: 0.3548\n",
            "Epoch 73/250\n",
            "7/7 [==============================] - 0s 4ms/step - loss: 0.6936 - accuracy: 0.4831 - lr: 0.3981\n",
            "Epoch 74/250\n",
            "7/7 [==============================] - 0s 3ms/step - loss: 0.6907 - accuracy: 0.5411 - lr: 0.4467\n",
            "Epoch 75/250\n",
            "7/7 [==============================] - 0s 4ms/step - loss: 0.7054 - accuracy: 0.5411 - lr: 0.5012\n",
            "Epoch 76/250\n",
            "7/7 [==============================] - 0s 3ms/step - loss: 0.6893 - accuracy: 0.5411 - lr: 0.5623\n",
            "Epoch 77/250\n",
            "7/7 [==============================] - 0s 4ms/step - loss: 0.7014 - accuracy: 0.4396 - lr: 0.6310\n",
            "Epoch 78/250\n",
            "7/7 [==============================] - 0s 3ms/step - loss: 0.6953 - accuracy: 0.5411 - lr: 0.7079\n",
            "Epoch 79/250\n",
            "7/7 [==============================] - 0s 3ms/step - loss: 0.7012 - accuracy: 0.5411 - lr: 0.7943\n",
            "Epoch 80/250\n",
            "7/7 [==============================] - 0s 3ms/step - loss: 0.7008 - accuracy: 0.4589 - lr: 0.8913\n",
            "Epoch 81/250\n",
            "7/7 [==============================] - 0s 4ms/step - loss: 0.7253 - accuracy: 0.4928 - lr: 1.0000\n",
            "Epoch 82/250\n",
            "7/7 [==============================] - 0s 3ms/step - loss: 0.7364 - accuracy: 0.4493 - lr: 1.1220\n",
            "Epoch 83/250\n",
            "7/7 [==============================] - 0s 4ms/step - loss: 0.7028 - accuracy: 0.5411 - lr: 1.2589\n",
            "Epoch 84/250\n",
            "7/7 [==============================] - 0s 4ms/step - loss: 0.6937 - accuracy: 0.5556 - lr: 1.4125\n",
            "Epoch 85/250\n",
            "7/7 [==============================] - 0s 4ms/step - loss: 0.7090 - accuracy: 0.4831 - lr: 1.5849\n",
            "Epoch 86/250\n",
            "7/7 [==============================] - 0s 3ms/step - loss: 0.6998 - accuracy: 0.4928 - lr: 1.7783\n",
            "Epoch 87/250\n",
            "7/7 [==============================] - 0s 4ms/step - loss: 0.6929 - accuracy: 0.5411 - lr: 1.9953\n",
            "Epoch 88/250\n",
            "7/7 [==============================] - 0s 5ms/step - loss: 0.7138 - accuracy: 0.4444 - lr: 2.2387\n",
            "Epoch 89/250\n",
            "7/7 [==============================] - 0s 4ms/step - loss: 0.7168 - accuracy: 0.4976 - lr: 2.5119\n",
            "Epoch 90/250\n",
            "7/7 [==============================] - 0s 3ms/step - loss: 0.6898 - accuracy: 0.5411 - lr: 2.8184\n",
            "Epoch 91/250\n",
            "7/7 [==============================] - 0s 3ms/step - loss: 0.7263 - accuracy: 0.4589 - lr: 3.1623\n",
            "Epoch 92/250\n",
            "7/7 [==============================] - 0s 3ms/step - loss: 0.7061 - accuracy: 0.5411 - lr: 3.5481\n",
            "Epoch 93/250\n",
            "7/7 [==============================] - 0s 3ms/step - loss: 0.7474 - accuracy: 0.4348 - lr: 3.9811\n",
            "Epoch 94/250\n",
            "7/7 [==============================] - 0s 3ms/step - loss: 0.7465 - accuracy: 0.4541 - lr: 4.4668\n",
            "Epoch 95/250\n",
            "7/7 [==============================] - 0s 4ms/step - loss: 0.6967 - accuracy: 0.5217 - lr: 5.0119\n",
            "Epoch 96/250\n",
            "7/7 [==============================] - 0s 3ms/step - loss: 0.7258 - accuracy: 0.5314 - lr: 5.6234\n",
            "Epoch 97/250\n",
            "7/7 [==============================] - 0s 5ms/step - loss: 0.7666 - accuracy: 0.4831 - lr: 6.3096\n",
            "Epoch 98/250\n",
            "7/7 [==============================] - 0s 3ms/step - loss: 0.7492 - accuracy: 0.4106 - lr: 7.0795\n",
            "Epoch 99/250\n",
            "7/7 [==============================] - 0s 3ms/step - loss: 0.7917 - accuracy: 0.5072 - lr: 7.9433\n",
            "Epoch 100/250\n",
            "7/7 [==============================] - 0s 4ms/step - loss: 0.8671 - accuracy: 0.5217 - lr: 8.9125\n",
            "Epoch 101/250\n",
            "7/7 [==============================] - 0s 4ms/step - loss: 0.7535 - accuracy: 0.4831 - lr: 10.0000\n",
            "Epoch 102/250\n",
            "7/7 [==============================] - 0s 4ms/step - loss: 0.8475 - accuracy: 0.4928 - lr: 11.2202\n",
            "Epoch 103/250\n",
            "7/7 [==============================] - 0s 4ms/step - loss: 0.8326 - accuracy: 0.5314 - lr: 12.5893\n",
            "Epoch 104/250\n",
            "7/7 [==============================] - 0s 4ms/step - loss: 0.8549 - accuracy: 0.5169 - lr: 14.1254\n",
            "Epoch 105/250\n",
            "7/7 [==============================] - 0s 3ms/step - loss: 1.1255 - accuracy: 0.5314 - lr: 15.8489\n",
            "Epoch 106/250\n",
            "7/7 [==============================] - 0s 4ms/step - loss: 1.1713 - accuracy: 0.4879 - lr: 17.7828\n",
            "Epoch 107/250\n",
            "7/7 [==============================] - 0s 3ms/step - loss: 0.8328 - accuracy: 0.5169 - lr: 19.9526\n",
            "Epoch 108/250\n",
            "7/7 [==============================] - 0s 4ms/step - loss: 0.9994 - accuracy: 0.5217 - lr: 22.3872\n",
            "Epoch 109/250\n",
            "7/7 [==============================] - 0s 3ms/step - loss: 1.0957 - accuracy: 0.5169 - lr: 25.1189\n",
            "Epoch 110/250\n",
            "7/7 [==============================] - 0s 4ms/step - loss: 1.2799 - accuracy: 0.5459 - lr: 28.1838\n",
            "Epoch 111/250\n",
            "7/7 [==============================] - 0s 4ms/step - loss: 1.2689 - accuracy: 0.5266 - lr: 31.6228\n",
            "Epoch 112/250\n",
            "7/7 [==============================] - 0s 4ms/step - loss: 2.5459 - accuracy: 0.4734 - lr: 35.4813\n",
            "Epoch 113/250\n",
            "7/7 [==============================] - 0s 4ms/step - loss: 4.6451 - accuracy: 0.5024 - lr: 39.8107\n",
            "Epoch 114/250\n",
            "7/7 [==============================] - 0s 4ms/step - loss: 7.3106 - accuracy: 0.4541 - lr: 44.6684\n",
            "Epoch 115/250\n",
            "7/7 [==============================] - 0s 4ms/step - loss: 4.5602 - accuracy: 0.5217 - lr: 50.1187\n",
            "Epoch 116/250\n",
            "7/7 [==============================] - 0s 4ms/step - loss: 4.9278 - accuracy: 0.4783 - lr: 56.2341\n",
            "Epoch 117/250\n",
            "7/7 [==============================] - 0s 4ms/step - loss: 6.5506 - accuracy: 0.4783 - lr: 63.0957\n",
            "Epoch 118/250\n",
            "7/7 [==============================] - 0s 4ms/step - loss: 1.7329 - accuracy: 0.5072 - lr: 70.7946\n",
            "Epoch 119/250\n",
            "7/7 [==============================] - 0s 3ms/step - loss: 3.2556 - accuracy: 0.5459 - lr: 79.4328\n",
            "Epoch 120/250\n",
            "7/7 [==============================] - 0s 3ms/step - loss: 4.6872 - accuracy: 0.5121 - lr: 89.1251\n",
            "Epoch 121/250\n",
            "7/7 [==============================] - 0s 4ms/step - loss: 12.9126 - accuracy: 0.4928 - lr: 100.0000\n",
            "Epoch 122/250\n",
            "7/7 [==============================] - 0s 4ms/step - loss: 9.7845 - accuracy: 0.4879 - lr: 112.2018\n",
            "Epoch 123/250\n",
            "7/7 [==============================] - 0s 3ms/step - loss: 20.9144 - accuracy: 0.4831 - lr: 125.8925\n",
            "Epoch 124/250\n",
            "7/7 [==============================] - 0s 4ms/step - loss: 40.4674 - accuracy: 0.4638 - lr: 141.2538\n",
            "Epoch 125/250\n",
            "7/7 [==============================] - 0s 5ms/step - loss: 19.3068 - accuracy: 0.5700 - lr: 158.4893\n",
            "Epoch 126/250\n",
            "7/7 [==============================] - 0s 3ms/step - loss: 9.1896 - accuracy: 0.4783 - lr: 177.8279\n",
            "Epoch 127/250\n",
            "7/7 [==============================] - 0s 3ms/step - loss: 8.6187 - accuracy: 0.5459 - lr: 199.5262\n",
            "Epoch 128/250\n",
            "7/7 [==============================] - 0s 3ms/step - loss: 11.9125 - accuracy: 0.4928 - lr: 223.8721\n",
            "Epoch 129/250\n",
            "7/7 [==============================] - 0s 4ms/step - loss: 12.5936 - accuracy: 0.4783 - lr: 251.1886\n",
            "Epoch 130/250\n",
            "7/7 [==============================] - 0s 4ms/step - loss: 16.2529 - accuracy: 0.5314 - lr: 281.8383\n",
            "Epoch 131/250\n",
            "7/7 [==============================] - 0s 3ms/step - loss: 14.5000 - accuracy: 0.5072 - lr: 316.2278\n",
            "Epoch 132/250\n",
            "7/7 [==============================] - 0s 4ms/step - loss: 20.2541 - accuracy: 0.4734 - lr: 354.8134\n",
            "Epoch 133/250\n",
            "7/7 [==============================] - 0s 4ms/step - loss: 62.5561 - accuracy: 0.4348 - lr: 398.1072\n",
            "Epoch 134/250\n",
            "7/7 [==============================] - 0s 3ms/step - loss: 52.6481 - accuracy: 0.5217 - lr: 446.6836\n",
            "Epoch 135/250\n",
            "7/7 [==============================] - 0s 4ms/step - loss: 54.3807 - accuracy: 0.5217 - lr: 501.1872\n",
            "Epoch 136/250\n",
            "7/7 [==============================] - 0s 4ms/step - loss: 102.3637 - accuracy: 0.5072 - lr: 562.3413\n",
            "Epoch 137/250\n",
            "7/7 [==============================] - 0s 3ms/step - loss: 154.7038 - accuracy: 0.5217 - lr: 630.9573\n",
            "Epoch 138/250\n",
            "7/7 [==============================] - 0s 3ms/step - loss: 98.8306 - accuracy: 0.4831 - lr: 707.9458\n",
            "Epoch 139/250\n",
            "7/7 [==============================] - 0s 4ms/step - loss: 37.7712 - accuracy: 0.4686 - lr: 794.3282\n",
            "Epoch 140/250\n",
            "7/7 [==============================] - 0s 4ms/step - loss: 72.9883 - accuracy: 0.5362 - lr: 891.2509\n",
            "Epoch 141/250\n",
            "7/7 [==============================] - 0s 5ms/step - loss: 75.3779 - accuracy: 0.4638 - lr: 1000.0000\n",
            "Epoch 142/250\n",
            "7/7 [==============================] - 0s 4ms/step - loss: 116.1315 - accuracy: 0.4928 - lr: 1122.0184\n",
            "Epoch 143/250\n",
            "7/7 [==============================] - 0s 4ms/step - loss: 109.4426 - accuracy: 0.4638 - lr: 1258.9254\n",
            "Epoch 144/250\n",
            "7/7 [==============================] - 0s 3ms/step - loss: 140.1633 - accuracy: 0.5942 - lr: 1412.5376\n",
            "Epoch 145/250\n",
            "7/7 [==============================] - 0s 4ms/step - loss: 101.3190 - accuracy: 0.4638 - lr: 1584.8932\n",
            "Epoch 146/250\n",
            "7/7 [==============================] - 0s 4ms/step - loss: 167.7655 - accuracy: 0.4734 - lr: 1778.2794\n",
            "Epoch 147/250\n",
            "7/7 [==============================] - 0s 4ms/step - loss: 240.9133 - accuracy: 0.5024 - lr: 1995.2623\n",
            "Epoch 148/250\n",
            "7/7 [==============================] - 0s 4ms/step - loss: 132.9373 - accuracy: 0.4879 - lr: 2238.7212\n",
            "Epoch 149/250\n",
            "7/7 [==============================] - 0s 3ms/step - loss: 117.4648 - accuracy: 0.4734 - lr: 2511.8865\n",
            "Epoch 150/250\n",
            "7/7 [==============================] - 0s 4ms/step - loss: 212.1402 - accuracy: 0.5314 - lr: 2818.3828\n",
            "Epoch 151/250\n",
            "7/7 [==============================] - 0s 4ms/step - loss: 196.6518 - accuracy: 0.5411 - lr: 3162.2776\n",
            "Epoch 152/250\n",
            "7/7 [==============================] - 0s 3ms/step - loss: 198.5291 - accuracy: 0.4879 - lr: 3548.1338\n",
            "Epoch 153/250\n",
            "7/7 [==============================] - 0s 4ms/step - loss: 392.5668 - accuracy: 0.4976 - lr: 3981.0718\n",
            "Epoch 154/250\n",
            "7/7 [==============================] - 0s 3ms/step - loss: 264.1753 - accuracy: 0.5072 - lr: 4466.8359\n",
            "Epoch 155/250\n",
            "7/7 [==============================] - 0s 4ms/step - loss: 576.3187 - accuracy: 0.4879 - lr: 5011.8726\n",
            "Epoch 156/250\n",
            "7/7 [==============================] - 0s 4ms/step - loss: 786.0009 - accuracy: 0.5169 - lr: 5623.4131\n",
            "Epoch 157/250\n",
            "7/7 [==============================] - 0s 4ms/step - loss: 795.1033 - accuracy: 0.5121 - lr: 6309.5732\n",
            "Epoch 158/250\n",
            "7/7 [==============================] - 0s 4ms/step - loss: 1074.2871 - accuracy: 0.4928 - lr: 7079.4580\n",
            "Epoch 159/250\n",
            "7/7 [==============================] - 0s 4ms/step - loss: 1581.7667 - accuracy: 0.5459 - lr: 7943.2822\n",
            "Epoch 160/250\n",
            "7/7 [==============================] - 0s 3ms/step - loss: 1127.5006 - accuracy: 0.4686 - lr: 8912.5098\n",
            "Epoch 161/250\n",
            "7/7 [==============================] - 0s 3ms/step - loss: 349.8667 - accuracy: 0.5217 - lr: 10000.0000\n",
            "Epoch 162/250\n",
            "7/7 [==============================] - 0s 3ms/step - loss: 1264.5400 - accuracy: 0.4541 - lr: 11220.1846\n",
            "Epoch 163/250\n",
            "7/7 [==============================] - 0s 4ms/step - loss: 949.2413 - accuracy: 0.4831 - lr: 12589.2539\n",
            "Epoch 164/250\n",
            "7/7 [==============================] - 0s 4ms/step - loss: 2118.5010 - accuracy: 0.4638 - lr: 14125.3750\n",
            "Epoch 165/250\n",
            "7/7 [==============================] - 0s 4ms/step - loss: 2028.2902 - accuracy: 0.5024 - lr: 15848.9316\n",
            "Epoch 166/250\n",
            "7/7 [==============================] - 0s 4ms/step - loss: 1410.7709 - accuracy: 0.4734 - lr: 17782.7949\n",
            "Epoch 167/250\n",
            "7/7 [==============================] - 0s 4ms/step - loss: 1727.2897 - accuracy: 0.5024 - lr: 19952.6230\n",
            "Epoch 168/250\n",
            "7/7 [==============================] - 0s 4ms/step - loss: 1197.6930 - accuracy: 0.5604 - lr: 22387.2109\n",
            "Epoch 169/250\n",
            "7/7 [==============================] - 0s 4ms/step - loss: 1986.4923 - accuracy: 0.4928 - lr: 25118.8652\n",
            "Epoch 170/250\n",
            "7/7 [==============================] - 0s 4ms/step - loss: 2342.1846 - accuracy: 0.5507 - lr: 28183.8301\n",
            "Epoch 171/250\n",
            "7/7 [==============================] - 0s 4ms/step - loss: 5775.4258 - accuracy: 0.4879 - lr: 31622.7773\n",
            "Epoch 172/250\n",
            "7/7 [==============================] - 0s 4ms/step - loss: 6321.4355 - accuracy: 0.5121 - lr: 35481.3398\n",
            "Epoch 173/250\n",
            "7/7 [==============================] - 0s 4ms/step - loss: 5979.7671 - accuracy: 0.4928 - lr: 39810.7188\n",
            "Epoch 174/250\n",
            "7/7 [==============================] - 0s 4ms/step - loss: 6779.4365 - accuracy: 0.4686 - lr: 44668.3594\n",
            "Epoch 175/250\n",
            "7/7 [==============================] - 0s 3ms/step - loss: 6688.4458 - accuracy: 0.5459 - lr: 50118.7227\n",
            "Epoch 176/250\n",
            "7/7 [==============================] - 0s 4ms/step - loss: 5438.9360 - accuracy: 0.5121 - lr: 56234.1328\n",
            "Epoch 177/250\n",
            "7/7 [==============================] - 0s 4ms/step - loss: 4408.9941 - accuracy: 0.5024 - lr: 63095.7344\n",
            "Epoch 178/250\n",
            "7/7 [==============================] - 0s 3ms/step - loss: 4510.2769 - accuracy: 0.4396 - lr: 70794.5781\n",
            "Epoch 179/250\n",
            "7/7 [==============================] - 0s 3ms/step - loss: 7048.6074 - accuracy: 0.5266 - lr: 79432.8203\n",
            "Epoch 180/250\n",
            "7/7 [==============================] - 0s 5ms/step - loss: 7814.6377 - accuracy: 0.5459 - lr: 89125.0938\n",
            "Epoch 181/250\n",
            "7/7 [==============================] - 0s 6ms/step - loss: 8428.7715 - accuracy: 0.4879 - lr: 100000.0000\n",
            "Epoch 182/250\n",
            "7/7 [==============================] - 0s 4ms/step - loss: 2838.8401 - accuracy: 0.5217 - lr: 112201.8438\n",
            "Epoch 183/250\n",
            "7/7 [==============================] - 0s 3ms/step - loss: 4504.4561 - accuracy: 0.5362 - lr: 125892.5391\n",
            "Epoch 184/250\n",
            "7/7 [==============================] - 0s 4ms/step - loss: 10608.4678 - accuracy: 0.5169 - lr: 141253.7500\n",
            "Epoch 185/250\n",
            "7/7 [==============================] - 0s 3ms/step - loss: 7976.4463 - accuracy: 0.5362 - lr: 158489.3125\n",
            "Epoch 186/250\n",
            "7/7 [==============================] - 0s 4ms/step - loss: 9330.0449 - accuracy: 0.4831 - lr: 177827.9375\n",
            "Epoch 187/250\n",
            "7/7 [==============================] - 0s 4ms/step - loss: 12223.2764 - accuracy: 0.5072 - lr: 199526.2344\n",
            "Epoch 188/250\n",
            "7/7 [==============================] - 0s 4ms/step - loss: 6848.9971 - accuracy: 0.5314 - lr: 223872.1094\n",
            "Epoch 189/250\n",
            "7/7 [==============================] - 0s 4ms/step - loss: 16374.6357 - accuracy: 0.5411 - lr: 251188.6406\n",
            "Epoch 190/250\n",
            "7/7 [==============================] - 0s 3ms/step - loss: 17277.0664 - accuracy: 0.4928 - lr: 281838.2812\n",
            "Epoch 191/250\n",
            "7/7 [==============================] - 0s 4ms/step - loss: 8451.9268 - accuracy: 0.5121 - lr: 316227.7812\n",
            "Epoch 192/250\n",
            "7/7 [==============================] - 0s 4ms/step - loss: 52640.9570 - accuracy: 0.4638 - lr: 354813.3750\n",
            "Epoch 193/250\n",
            "7/7 [==============================] - 0s 4ms/step - loss: 59739.6406 - accuracy: 0.4155 - lr: 398107.1562\n",
            "Epoch 194/250\n",
            "7/7 [==============================] - 0s 4ms/step - loss: 39248.7109 - accuracy: 0.4734 - lr: 446683.5938\n",
            "Epoch 195/250\n",
            "7/7 [==============================] - 0s 3ms/step - loss: 33538.5078 - accuracy: 0.4831 - lr: 501187.2188\n",
            "Epoch 196/250\n",
            "7/7 [==============================] - 0s 4ms/step - loss: 25455.3770 - accuracy: 0.5072 - lr: 562341.3125\n",
            "Epoch 197/250\n",
            "7/7 [==============================] - 0s 4ms/step - loss: 49683.3438 - accuracy: 0.5362 - lr: 630957.3750\n",
            "Epoch 198/250\n",
            "7/7 [==============================] - 0s 4ms/step - loss: 75097.0703 - accuracy: 0.5411 - lr: 707945.8125\n",
            "Epoch 199/250\n",
            "7/7 [==============================] - 0s 4ms/step - loss: 64785.4102 - accuracy: 0.5217 - lr: 794328.2500\n",
            "Epoch 200/250\n",
            "7/7 [==============================] - 0s 5ms/step - loss: 52482.0078 - accuracy: 0.5314 - lr: 891250.9375\n",
            "Epoch 201/250\n",
            "7/7 [==============================] - 0s 4ms/step - loss: 84794.1641 - accuracy: 0.4638 - lr: 1000000.0000\n",
            "Epoch 202/250\n",
            "7/7 [==============================] - 0s 4ms/step - loss: 69169.3125 - accuracy: 0.4928 - lr: 1122018.5000\n",
            "Epoch 203/250\n",
            "7/7 [==============================] - 0s 4ms/step - loss: 39895.0859 - accuracy: 0.5217 - lr: 1258925.3750\n",
            "Epoch 204/250\n",
            "7/7 [==============================] - 0s 3ms/step - loss: 101232.7812 - accuracy: 0.4734 - lr: 1412537.5000\n",
            "Epoch 205/250\n",
            "7/7 [==============================] - 0s 4ms/step - loss: 61762.1055 - accuracy: 0.5169 - lr: 1584893.2500\n",
            "Epoch 206/250\n",
            "7/7 [==============================] - 0s 3ms/step - loss: 144204.5625 - accuracy: 0.4493 - lr: 1778279.3750\n",
            "Epoch 207/250\n",
            "7/7 [==============================] - 0s 4ms/step - loss: 188592.7031 - accuracy: 0.4928 - lr: 1995262.3750\n",
            "Epoch 208/250\n",
            "7/7 [==============================] - 0s 4ms/step - loss: 219904.9688 - accuracy: 0.5121 - lr: 2238721.2500\n",
            "Epoch 209/250\n",
            "7/7 [==============================] - 0s 5ms/step - loss: 136948.6562 - accuracy: 0.5604 - lr: 2511886.5000\n",
            "Epoch 210/250\n",
            "7/7 [==============================] - 0s 4ms/step - loss: 150075.4531 - accuracy: 0.4783 - lr: 2818383.0000\n",
            "Epoch 211/250\n",
            "7/7 [==============================] - 0s 5ms/step - loss: 262974.8125 - accuracy: 0.4783 - lr: 3162277.7500\n",
            "Epoch 212/250\n",
            "7/7 [==============================] - 0s 4ms/step - loss: 260400.3281 - accuracy: 0.5072 - lr: 3548134.0000\n",
            "Epoch 213/250\n",
            "7/7 [==============================] - 0s 4ms/step - loss: 190638.5469 - accuracy: 0.4976 - lr: 3981071.7500\n",
            "Epoch 214/250\n",
            "7/7 [==============================] - 0s 3ms/step - loss: 411577.5312 - accuracy: 0.5362 - lr: 4466836.0000\n",
            "Epoch 215/250\n",
            "7/7 [==============================] - 0s 4ms/step - loss: 535144.4375 - accuracy: 0.4783 - lr: 5011872.5000\n",
            "Epoch 216/250\n",
            "7/7 [==============================] - 0s 4ms/step - loss: 970683.0000 - accuracy: 0.4251 - lr: 5623413.5000\n",
            "Epoch 217/250\n",
            "7/7 [==============================] - 0s 4ms/step - loss: 629691.3125 - accuracy: 0.5217 - lr: 6309573.5000\n",
            "Epoch 218/250\n",
            "7/7 [==============================] - 0s 4ms/step - loss: 1186711.2500 - accuracy: 0.5266 - lr: 7079458.0000\n",
            "Epoch 219/250\n",
            "7/7 [==============================] - 0s 4ms/step - loss: 713308.8125 - accuracy: 0.4589 - lr: 7943282.5000\n",
            "Epoch 220/250\n",
            "7/7 [==============================] - 0s 4ms/step - loss: 560205.3125 - accuracy: 0.5266 - lr: 8912509.0000\n",
            "Epoch 221/250\n",
            "7/7 [==============================] - 0s 4ms/step - loss: 1235361.8750 - accuracy: 0.4928 - lr: 10000000.0000\n",
            "Epoch 222/250\n",
            "7/7 [==============================] - 0s 4ms/step - loss: 1448435.1250 - accuracy: 0.4541 - lr: 11220185.0000\n",
            "Epoch 223/250\n",
            "7/7 [==============================] - 0s 4ms/step - loss: 2060877.8750 - accuracy: 0.5362 - lr: 12589254.0000\n",
            "Epoch 224/250\n",
            "7/7 [==============================] - 0s 4ms/step - loss: 1026859.6875 - accuracy: 0.4589 - lr: 14125375.0000\n",
            "Epoch 225/250\n",
            "7/7 [==============================] - 0s 3ms/step - loss: 951575.5000 - accuracy: 0.4734 - lr: 15848932.0000\n",
            "Epoch 226/250\n",
            "7/7 [==============================] - 0s 4ms/step - loss: 817105.4375 - accuracy: 0.4831 - lr: 17782794.0000\n",
            "Epoch 227/250\n",
            "7/7 [==============================] - 0s 4ms/step - loss: 1223984.3750 - accuracy: 0.5266 - lr: 19952624.0000\n",
            "Epoch 228/250\n",
            "7/7 [==============================] - 0s 4ms/step - loss: 606146.6250 - accuracy: 0.5314 - lr: 22387212.0000\n",
            "Epoch 229/250\n",
            "7/7 [==============================] - 0s 3ms/step - loss: 376096.0000 - accuracy: 0.5411 - lr: 25118864.0000\n",
            "Epoch 230/250\n",
            "7/7 [==============================] - 0s 5ms/step - loss: 1650116.3750 - accuracy: 0.4493 - lr: 28183830.0000\n",
            "Epoch 231/250\n",
            "7/7 [==============================] - 0s 3ms/step - loss: 1857349.7500 - accuracy: 0.5556 - lr: 31622776.0000\n",
            "Epoch 232/250\n",
            "7/7 [==============================] - 0s 4ms/step - loss: 1523988.5000 - accuracy: 0.4831 - lr: 35481340.0000\n",
            "Epoch 233/250\n",
            "7/7 [==============================] - 0s 4ms/step - loss: 1559507.7500 - accuracy: 0.4879 - lr: 39810716.0000\n",
            "Epoch 234/250\n",
            "7/7 [==============================] - 0s 4ms/step - loss: 2382702.0000 - accuracy: 0.4686 - lr: 44668360.0000\n",
            "Epoch 235/250\n",
            "7/7 [==============================] - 0s 4ms/step - loss: 1347576.7500 - accuracy: 0.4638 - lr: 50118724.0000\n",
            "Epoch 236/250\n",
            "7/7 [==============================] - 0s 4ms/step - loss: 4904303.0000 - accuracy: 0.4686 - lr: 56234132.0000\n",
            "Epoch 237/250\n",
            "7/7 [==============================] - 0s 4ms/step - loss: 9977859.0000 - accuracy: 0.5266 - lr: 63095736.0000\n",
            "Epoch 238/250\n",
            "7/7 [==============================] - 0s 4ms/step - loss: 10649945.0000 - accuracy: 0.5024 - lr: 70794576.0000\n",
            "Epoch 239/250\n",
            "7/7 [==============================] - 0s 4ms/step - loss: 9496541.0000 - accuracy: 0.5556 - lr: 79432824.0000\n",
            "Epoch 240/250\n",
            "7/7 [==============================] - 0s 4ms/step - loss: 12564478.0000 - accuracy: 0.4783 - lr: 89125096.0000\n",
            "Epoch 241/250\n",
            "7/7 [==============================] - 0s 4ms/step - loss: 5754921.0000 - accuracy: 0.4686 - lr: 100000000.0000\n",
            "Epoch 242/250\n",
            "7/7 [==============================] - 0s 4ms/step - loss: 5233343.0000 - accuracy: 0.5072 - lr: 112201848.0000\n",
            "Epoch 243/250\n",
            "7/7 [==============================] - 0s 4ms/step - loss: 9697249.0000 - accuracy: 0.4638 - lr: 125892544.0000\n",
            "Epoch 244/250\n",
            "7/7 [==============================] - 0s 4ms/step - loss: 5872499.5000 - accuracy: 0.5362 - lr: 141253760.0000\n",
            "Epoch 245/250\n",
            "7/7 [==============================] - 0s 3ms/step - loss: 6559407.0000 - accuracy: 0.5314 - lr: 158489312.0000\n",
            "Epoch 246/250\n",
            "7/7 [==============================] - 0s 3ms/step - loss: 16678990.0000 - accuracy: 0.4783 - lr: 177827936.0000\n",
            "Epoch 247/250\n",
            "7/7 [==============================] - 0s 3ms/step - loss: 22474666.0000 - accuracy: 0.5266 - lr: 199526224.0000\n",
            "Epoch 248/250\n",
            "7/7 [==============================] - 0s 4ms/step - loss: 16569818.0000 - accuracy: 0.5072 - lr: 223872112.0000\n",
            "Epoch 249/250\n",
            "7/7 [==============================] - 0s 4ms/step - loss: 12299788.0000 - accuracy: 0.5169 - lr: 251188640.0000\n",
            "Epoch 250/250\n",
            "7/7 [==============================] - 0s 3ms/step - loss: 9023879.0000 - accuracy: 0.4638 - lr: 281838304.0000\n"
          ]
        }
      ]
    },
    {
      "cell_type": "code",
      "source": [
        "model_06.evaluate(X_test , y_test)"
      ],
      "metadata": {
        "colab": {
          "base_uri": "https://localhost:8080/"
        },
        "id": "GHLfRwpYZEB_",
        "outputId": "b3e7bb4a-99b7-4e93-e54d-ef0f7768c89a"
      },
      "execution_count": 300,
      "outputs": [
        {
          "output_type": "stream",
          "name": "stdout",
          "text": [
            "3/3 [==============================] - 0s 4ms/step - loss: 29673420.0000 - accuracy: 0.5333\n"
          ]
        },
        {
          "output_type": "execute_result",
          "data": {
            "text/plain": [
              "[29673420.0, 0.5333333611488342]"
            ]
          },
          "metadata": {},
          "execution_count": 300
        }
      ]
    },
    {
      "cell_type": "markdown",
      "source": [
        "#Model_07"
      ],
      "metadata": {
        "id": "Svh3QbSwJGf1"
      }
    },
    {
      "cell_type": "code",
      "source": [
        "# Set random seed\n",
        "tf.random.set_seed(42)\n",
        "\n",
        "# Create the model (same as model_7)\n",
        "model_07 = tf.keras.Sequential([\n",
        "  tf.keras.layers.Dense(4, activation=\"relu\"), # hidden layer 1, using \"relu\" for activation (same as tf.keras.activations.relu)\n",
        "  tf.keras.layers.Dense(4, activation=\"relu\"),\n",
        "#   tf.keras.layers.Dense(10, activation=\"relu\"),\n",
        "#   tf.keras.layers.Dense(10, activation=\"relu\"),\n",
        "  tf.keras.layers.Dense(1, activation=\"sigmoid\") # output layer, using 'sigmoid' for the output\n",
        "])\n",
        "\n",
        "# Compile the model\n",
        "model_07.compile(loss=tf.keras.losses.binary_crossentropy,\n",
        "                optimizer=tf.keras.optimizers.Adam(learning_rate=0.0501), # increase learning rate from 0.001 to 0.01 for faster learning\n",
        "                metrics=['accuracy'])\n",
        "\n",
        "# Fit the model\n",
        "model_07.fit(X_train, y_train, epochs=100,verbose=0)\n",
        "\n"
      ],
      "metadata": {
        "colab": {
          "base_uri": "https://localhost:8080/"
        },
        "id": "FerhPF7cKPAp",
        "outputId": "48580d38-5914-46d4-fbc8-952c87a79ec2"
      },
      "execution_count": 301,
      "outputs": [
        {
          "output_type": "execute_result",
          "data": {
            "text/plain": [
              "<keras.callbacks.History at 0x7ffa2b46b0d0>"
            ]
          },
          "metadata": {},
          "execution_count": 301
        }
      ]
    },
    {
      "cell_type": "code",
      "source": [
        "model_07.evaluate(X_test , y_test)"
      ],
      "metadata": {
        "colab": {
          "base_uri": "https://localhost:8080/"
        },
        "id": "YkLW3C2UKhQ4",
        "outputId": "4d278758-bcfe-4690-fe9e-4e14b72f5bd6"
      },
      "execution_count": 302,
      "outputs": [
        {
          "output_type": "stream",
          "name": "stdout",
          "text": [
            "3/3 [==============================] - 0s 4ms/step - loss: 0.4433 - accuracy: 0.8111\n"
          ]
        },
        {
          "output_type": "execute_result",
          "data": {
            "text/plain": [
              "[0.44331151247024536, 0.8111110925674438]"
            ]
          },
          "metadata": {},
          "execution_count": 302
        }
      ]
    },
    {
      "cell_type": "markdown",
      "source": [],
      "metadata": {
        "id": "CE7cNaOnZYio"
      }
    },
    {
      "cell_type": "code",
      "source": [
        "from sklearn.compose import make_column_transformer\n",
        "from sklearn.preprocessing import MinMaxScaler, OneHotEncoder\n",
        "\n",
        "# Create column transformer (this will help us normalize/preprocess our data)\n",
        "ct = make_column_transformer(\n",
        "    (MinMaxScaler(), [\"age\",\"sex\",\"cp\",\"trestbps\",\"chol\",\"fbs\",\"restecg\",\"thalach\",\"exang\",\"oldpeak\",\"slope\",\"ca\",\"thal\"]), # get all values between 0 and 1\n",
        ")\n",
        "\n",
        "# Create X & y\n",
        "X = project02.drop(\"condition\", axis=1)\n",
        "y = project02[\"condition\"]\n",
        "\n",
        "# Build our train and test sets (use random state to ensure same split as before)\n",
        "X_train, X_test, y_train, y_test = train_test_split(X, y, test_size=0.3, random_state=42)\n",
        "\n",
        "# Fit column transformer on the training data only (doing so on test data would result in data leakage)\n",
        "ct.fit(X_train)\n",
        "\n",
        "# Transform training and test data with normalization (MinMaxScalar) and one hot encoding (OneHotEncoder)\n",
        "X_train_normal = ct.transform(X_train)\n",
        "X_test_normal = ct.transform(X_test)"
      ],
      "metadata": {
        "id": "UMRysvKDL9BW"
      },
      "execution_count": 303,
      "outputs": []
    },
    {
      "cell_type": "code",
      "source": [
        "X_train_normal"
      ],
      "metadata": {
        "colab": {
          "base_uri": "https://localhost:8080/"
        },
        "id": "Ex8C_AqPP9t-",
        "outputId": "3fee9100-43e3-4b70-e20b-87a2bb92d672"
      },
      "execution_count": 304,
      "outputs": [
        {
          "output_type": "execute_result",
          "data": {
            "text/plain": [
              "array([[0.41666667, 0.        , 1.        , ..., 0.        , 0.        ,\n",
              "        0.        ],\n",
              "       [0.5625    , 0.        , 0.33333333, ..., 0.5       , 0.        ,\n",
              "        0.        ],\n",
              "       [0.47916667, 1.        , 0.        , ..., 0.5       , 0.        ,\n",
              "        1.        ],\n",
              "       ...,\n",
              "       [0.5625    , 1.        , 0.66666667, ..., 0.5       , 0.33333333,\n",
              "        0.5       ],\n",
              "       [0.375     , 1.        , 1.        , ..., 0.5       , 0.33333333,\n",
              "        0.        ],\n",
              "       [0.60416667, 1.        , 0.66666667, ..., 0.        , 0.        ,\n",
              "        0.        ]])"
            ]
          },
          "metadata": {},
          "execution_count": 304
        }
      ]
    },
    {
      "cell_type": "code",
      "source": [
        "# Set random seed\n",
        "tf.random.set_seed(42)\n",
        "\n",
        "# Create the model (same as model_7)\n",
        "model_08 = tf.keras.Sequential([\n",
        "  tf.keras.layers.Dense(1000, activation=\"relu\"), # hidden layer 1, using \"relu\" for activation (same as tf.keras.activations.relu)\n",
        "  tf.keras.layers.Dense(100, activation=\"relu\"),\n",
        "  tf.keras.layers.Dense(10, activation=\"relu\"),\n",
        "#   tf.keras.layers.Dense(10, activation=\"relu\"),\n",
        "  tf.keras.layers.Dense(1, activation=\"sigmoid\") # output layer, using 'sigmoid' for the output\n",
        "])\n",
        "\n",
        "# Compile the model\n",
        "model_08.compile(loss=tf.keras.losses.binary_crossentropy,\n",
        "                optimizer=tf.keras.optimizers.Adam(lr=0.001), # increase learning rate from 0.001 to 0.01 for faster learning\n",
        "                metrics=['accuracy'])\n",
        "\n",
        "# Fit the model\n",
        "history = model_08.fit(X_train_normal, y_train, epochs=100 , verbose=1)\n",
        "\n"
      ],
      "metadata": {
        "colab": {
          "base_uri": "https://localhost:8080/"
        },
        "id": "qbqX2vAXQD3I",
        "outputId": "e339a2f3-45a1-4617-900f-c9420aa0011f"
      },
      "execution_count": 305,
      "outputs": [
        {
          "output_type": "stream",
          "name": "stdout",
          "text": [
            "Epoch 1/100\n"
          ]
        },
        {
          "output_type": "stream",
          "name": "stderr",
          "text": [
            "/usr/local/lib/python3.7/dist-packages/keras/optimizers/optimizer_v2/adam.py:110: UserWarning: The `lr` argument is deprecated, use `learning_rate` instead.\n",
            "  super(Adam, self).__init__(name, **kwargs)\n"
          ]
        },
        {
          "output_type": "stream",
          "name": "stdout",
          "text": [
            "7/7 [==============================] - 1s 5ms/step - loss: 0.6700 - accuracy: 0.7053\n",
            "Epoch 2/100\n",
            "7/7 [==============================] - 0s 5ms/step - loss: 0.5975 - accuracy: 0.7971\n",
            "Epoch 3/100\n",
            "7/7 [==============================] - 0s 5ms/step - loss: 0.5205 - accuracy: 0.8502\n",
            "Epoch 4/100\n",
            "7/7 [==============================] - 0s 6ms/step - loss: 0.4507 - accuracy: 0.8502\n",
            "Epoch 5/100\n",
            "7/7 [==============================] - 0s 5ms/step - loss: 0.4089 - accuracy: 0.8454\n",
            "Epoch 6/100\n",
            "7/7 [==============================] - 0s 5ms/step - loss: 0.3681 - accuracy: 0.8599\n",
            "Epoch 7/100\n",
            "7/7 [==============================] - 0s 5ms/step - loss: 0.3544 - accuracy: 0.8502\n",
            "Epoch 8/100\n",
            "7/7 [==============================] - 0s 5ms/step - loss: 0.3379 - accuracy: 0.8647\n",
            "Epoch 9/100\n",
            "7/7 [==============================] - 0s 5ms/step - loss: 0.3348 - accuracy: 0.8599\n",
            "Epoch 10/100\n",
            "7/7 [==============================] - 0s 5ms/step - loss: 0.3143 - accuracy: 0.8792\n",
            "Epoch 11/100\n",
            "7/7 [==============================] - 0s 5ms/step - loss: 0.3167 - accuracy: 0.8647\n",
            "Epoch 12/100\n",
            "7/7 [==============================] - 0s 5ms/step - loss: 0.3007 - accuracy: 0.8841\n",
            "Epoch 13/100\n",
            "7/7 [==============================] - 0s 8ms/step - loss: 0.2899 - accuracy: 0.8841\n",
            "Epoch 14/100\n",
            "7/7 [==============================] - 0s 6ms/step - loss: 0.2757 - accuracy: 0.8744\n",
            "Epoch 15/100\n",
            "7/7 [==============================] - 0s 5ms/step - loss: 0.2823 - accuracy: 0.8744\n",
            "Epoch 16/100\n",
            "7/7 [==============================] - 0s 6ms/step - loss: 0.2714 - accuracy: 0.8889\n",
            "Epoch 17/100\n",
            "7/7 [==============================] - 0s 5ms/step - loss: 0.2674 - accuracy: 0.8841\n",
            "Epoch 18/100\n",
            "7/7 [==============================] - 0s 6ms/step - loss: 0.2542 - accuracy: 0.8889\n",
            "Epoch 19/100\n",
            "7/7 [==============================] - 0s 5ms/step - loss: 0.2421 - accuracy: 0.8986\n",
            "Epoch 20/100\n",
            "7/7 [==============================] - 0s 5ms/step - loss: 0.2410 - accuracy: 0.9082\n",
            "Epoch 21/100\n",
            "7/7 [==============================] - 0s 5ms/step - loss: 0.2385 - accuracy: 0.9130\n",
            "Epoch 22/100\n",
            "7/7 [==============================] - 0s 5ms/step - loss: 0.2413 - accuracy: 0.8986\n",
            "Epoch 23/100\n",
            "7/7 [==============================] - 0s 6ms/step - loss: 0.2296 - accuracy: 0.9034\n",
            "Epoch 24/100\n",
            "7/7 [==============================] - 0s 5ms/step - loss: 0.2200 - accuracy: 0.9179\n",
            "Epoch 25/100\n",
            "7/7 [==============================] - 0s 5ms/step - loss: 0.2169 - accuracy: 0.9130\n",
            "Epoch 26/100\n",
            "7/7 [==============================] - 0s 5ms/step - loss: 0.2223 - accuracy: 0.9179\n",
            "Epoch 27/100\n",
            "7/7 [==============================] - 0s 5ms/step - loss: 0.2064 - accuracy: 0.9130\n",
            "Epoch 28/100\n",
            "7/7 [==============================] - 0s 5ms/step - loss: 0.1940 - accuracy: 0.9179\n",
            "Epoch 29/100\n",
            "7/7 [==============================] - 0s 5ms/step - loss: 0.1900 - accuracy: 0.9324\n",
            "Epoch 30/100\n",
            "7/7 [==============================] - 0s 5ms/step - loss: 0.1861 - accuracy: 0.9179\n",
            "Epoch 31/100\n",
            "7/7 [==============================] - 0s 5ms/step - loss: 0.1772 - accuracy: 0.9469\n",
            "Epoch 32/100\n",
            "7/7 [==============================] - 0s 5ms/step - loss: 0.1692 - accuracy: 0.9372\n",
            "Epoch 33/100\n",
            "7/7 [==============================] - 0s 5ms/step - loss: 0.1710 - accuracy: 0.9372\n",
            "Epoch 34/100\n",
            "7/7 [==============================] - 0s 5ms/step - loss: 0.1631 - accuracy: 0.9517\n",
            "Epoch 35/100\n",
            "7/7 [==============================] - 0s 6ms/step - loss: 0.1729 - accuracy: 0.9469\n",
            "Epoch 36/100\n",
            "7/7 [==============================] - 0s 6ms/step - loss: 0.1441 - accuracy: 0.9517\n",
            "Epoch 37/100\n",
            "7/7 [==============================] - 0s 5ms/step - loss: 0.1561 - accuracy: 0.9469\n",
            "Epoch 38/100\n",
            "7/7 [==============================] - 0s 5ms/step - loss: 0.1589 - accuracy: 0.9517\n",
            "Epoch 39/100\n",
            "7/7 [==============================] - 0s 5ms/step - loss: 0.1499 - accuracy: 0.9324\n",
            "Epoch 40/100\n",
            "7/7 [==============================] - 0s 5ms/step - loss: 0.1324 - accuracy: 0.9517\n",
            "Epoch 41/100\n",
            "7/7 [==============================] - 0s 5ms/step - loss: 0.1271 - accuracy: 0.9614\n",
            "Epoch 42/100\n",
            "7/7 [==============================] - 0s 5ms/step - loss: 0.1322 - accuracy: 0.9662\n",
            "Epoch 43/100\n",
            "7/7 [==============================] - 0s 5ms/step - loss: 0.1330 - accuracy: 0.9517\n",
            "Epoch 44/100\n",
            "7/7 [==============================] - 0s 5ms/step - loss: 0.1341 - accuracy: 0.9614\n",
            "Epoch 45/100\n",
            "7/7 [==============================] - 0s 5ms/step - loss: 0.1097 - accuracy: 0.9710\n",
            "Epoch 46/100\n",
            "7/7 [==============================] - 0s 5ms/step - loss: 0.1123 - accuracy: 0.9614\n",
            "Epoch 47/100\n",
            "7/7 [==============================] - 0s 6ms/step - loss: 0.0991 - accuracy: 0.9807\n",
            "Epoch 48/100\n",
            "7/7 [==============================] - 0s 5ms/step - loss: 0.1023 - accuracy: 0.9807\n",
            "Epoch 49/100\n",
            "7/7 [==============================] - 0s 5ms/step - loss: 0.0959 - accuracy: 0.9758\n",
            "Epoch 50/100\n",
            "7/7 [==============================] - 0s 5ms/step - loss: 0.1030 - accuracy: 0.9662\n",
            "Epoch 51/100\n",
            "7/7 [==============================] - 0s 5ms/step - loss: 0.0826 - accuracy: 0.9855\n",
            "Epoch 52/100\n",
            "7/7 [==============================] - 0s 5ms/step - loss: 0.0791 - accuracy: 0.9855\n",
            "Epoch 53/100\n",
            "7/7 [==============================] - 0s 6ms/step - loss: 0.0837 - accuracy: 0.9807\n",
            "Epoch 54/100\n",
            "7/7 [==============================] - 0s 6ms/step - loss: 0.0866 - accuracy: 0.9758\n",
            "Epoch 55/100\n",
            "7/7 [==============================] - 0s 5ms/step - loss: 0.0799 - accuracy: 0.9807\n",
            "Epoch 56/100\n",
            "7/7 [==============================] - 0s 6ms/step - loss: 0.0783 - accuracy: 0.9807\n",
            "Epoch 57/100\n",
            "7/7 [==============================] - 0s 5ms/step - loss: 0.0754 - accuracy: 0.9855\n",
            "Epoch 58/100\n",
            "7/7 [==============================] - 0s 5ms/step - loss: 0.0648 - accuracy: 0.9807\n",
            "Epoch 59/100\n",
            "7/7 [==============================] - 0s 5ms/step - loss: 0.0598 - accuracy: 0.9903\n",
            "Epoch 60/100\n",
            "7/7 [==============================] - 0s 5ms/step - loss: 0.0565 - accuracy: 0.9903\n",
            "Epoch 61/100\n",
            "7/7 [==============================] - 0s 5ms/step - loss: 0.0549 - accuracy: 0.9903\n",
            "Epoch 62/100\n",
            "7/7 [==============================] - 0s 5ms/step - loss: 0.0507 - accuracy: 0.9903\n",
            "Epoch 63/100\n",
            "7/7 [==============================] - 0s 5ms/step - loss: 0.0522 - accuracy: 0.9855\n",
            "Epoch 64/100\n",
            "7/7 [==============================] - 0s 5ms/step - loss: 0.0483 - accuracy: 0.9903\n",
            "Epoch 65/100\n",
            "7/7 [==============================] - 0s 5ms/step - loss: 0.0499 - accuracy: 0.9903\n",
            "Epoch 66/100\n",
            "7/7 [==============================] - 0s 5ms/step - loss: 0.0445 - accuracy: 0.9952\n",
            "Epoch 67/100\n",
            "7/7 [==============================] - 0s 6ms/step - loss: 0.0448 - accuracy: 0.9903\n",
            "Epoch 68/100\n",
            "7/7 [==============================] - 0s 6ms/step - loss: 0.0467 - accuracy: 0.9952\n",
            "Epoch 69/100\n",
            "7/7 [==============================] - 0s 5ms/step - loss: 0.0461 - accuracy: 0.9903\n",
            "Epoch 70/100\n",
            "7/7 [==============================] - 0s 6ms/step - loss: 0.0543 - accuracy: 0.9855\n",
            "Epoch 71/100\n",
            "7/7 [==============================] - 0s 5ms/step - loss: 0.0501 - accuracy: 0.9855\n",
            "Epoch 72/100\n",
            "7/7 [==============================] - 0s 5ms/step - loss: 0.0473 - accuracy: 0.9952\n",
            "Epoch 73/100\n",
            "7/7 [==============================] - 0s 5ms/step - loss: 0.0536 - accuracy: 0.9807\n",
            "Epoch 74/100\n",
            "7/7 [==============================] - 0s 5ms/step - loss: 0.0568 - accuracy: 0.9903\n",
            "Epoch 75/100\n",
            "7/7 [==============================] - 0s 5ms/step - loss: 0.0425 - accuracy: 0.9855\n",
            "Epoch 76/100\n",
            "7/7 [==============================] - 0s 5ms/step - loss: 0.0649 - accuracy: 0.9758\n",
            "Epoch 77/100\n",
            "7/7 [==============================] - 0s 6ms/step - loss: 0.0476 - accuracy: 0.9903\n",
            "Epoch 78/100\n",
            "7/7 [==============================] - 0s 5ms/step - loss: 0.0350 - accuracy: 0.9903\n",
            "Epoch 79/100\n",
            "7/7 [==============================] - 0s 6ms/step - loss: 0.0352 - accuracy: 0.9952\n",
            "Epoch 80/100\n",
            "7/7 [==============================] - 0s 6ms/step - loss: 0.0364 - accuracy: 0.9952\n",
            "Epoch 81/100\n",
            "7/7 [==============================] - 0s 5ms/step - loss: 0.0378 - accuracy: 0.9903\n",
            "Epoch 82/100\n",
            "7/7 [==============================] - 0s 5ms/step - loss: 0.0409 - accuracy: 0.9903\n",
            "Epoch 83/100\n",
            "7/7 [==============================] - 0s 5ms/step - loss: 0.0361 - accuracy: 0.9903\n",
            "Epoch 84/100\n",
            "7/7 [==============================] - 0s 6ms/step - loss: 0.0299 - accuracy: 0.9952\n",
            "Epoch 85/100\n",
            "7/7 [==============================] - 0s 7ms/step - loss: 0.0300 - accuracy: 0.9952\n",
            "Epoch 86/100\n",
            "7/7 [==============================] - 0s 5ms/step - loss: 0.0275 - accuracy: 0.9952\n",
            "Epoch 87/100\n",
            "7/7 [==============================] - 0s 5ms/step - loss: 0.0272 - accuracy: 0.9952\n",
            "Epoch 88/100\n",
            "7/7 [==============================] - 0s 5ms/step - loss: 0.0263 - accuracy: 0.9952\n",
            "Epoch 89/100\n",
            "7/7 [==============================] - 0s 7ms/step - loss: 0.0257 - accuracy: 0.9952\n",
            "Epoch 90/100\n",
            "7/7 [==============================] - 0s 7ms/step - loss: 0.0248 - accuracy: 0.9952\n",
            "Epoch 91/100\n",
            "7/7 [==============================] - 0s 7ms/step - loss: 0.0243 - accuracy: 0.9952\n",
            "Epoch 92/100\n",
            "7/7 [==============================] - 0s 6ms/step - loss: 0.0238 - accuracy: 0.9952\n",
            "Epoch 93/100\n",
            "7/7 [==============================] - 0s 5ms/step - loss: 0.0232 - accuracy: 0.9952\n",
            "Epoch 94/100\n",
            "7/7 [==============================] - 0s 5ms/step - loss: 0.0226 - accuracy: 0.9952\n",
            "Epoch 95/100\n",
            "7/7 [==============================] - 0s 5ms/step - loss: 0.0224 - accuracy: 0.9952\n",
            "Epoch 96/100\n",
            "7/7 [==============================] - 0s 5ms/step - loss: 0.0223 - accuracy: 0.9952\n",
            "Epoch 97/100\n",
            "7/7 [==============================] - 0s 5ms/step - loss: 0.0213 - accuracy: 0.9952\n",
            "Epoch 98/100\n",
            "7/7 [==============================] - 0s 8ms/step - loss: 0.0229 - accuracy: 0.9952\n",
            "Epoch 99/100\n",
            "7/7 [==============================] - 0s 5ms/step - loss: 0.0192 - accuracy: 0.9952\n",
            "Epoch 100/100\n",
            "7/7 [==============================] - 0s 5ms/step - loss: 0.0183 - accuracy: 0.9952\n"
          ]
        }
      ]
    },
    {
      "cell_type": "code",
      "source": [
        "model_08.evaluate(X_test_normal , y_test)"
      ],
      "metadata": {
        "colab": {
          "base_uri": "https://localhost:8080/"
        },
        "id": "V8UZpAajQkoU",
        "outputId": "d9ea2abe-5653-46e6-f2e0-0a264d5ba9cb"
      },
      "execution_count": 306,
      "outputs": [
        {
          "output_type": "stream",
          "name": "stdout",
          "text": [
            "3/3 [==============================] - 0s 5ms/step - loss: 0.9102 - accuracy: 0.8333\n"
          ]
        },
        {
          "output_type": "execute_result",
          "data": {
            "text/plain": [
              "[0.9101584553718567, 0.8333333134651184]"
            ]
          },
          "metadata": {},
          "execution_count": 306
        }
      ]
    },
    {
      "cell_type": "code",
      "source": [
        "# Set random seed\n",
        "tf.random.set_seed(42)\n",
        "\n",
        "# Create the model (same as model_7)\n",
        "model_09 = tf.keras.Sequential([\n",
        "  tf.keras.layers.Dense(1000, activation=\"relu\"), # hidden layer 1, using \"relu\" for activation (same as tf.keras.activations.relu)\n",
        "  tf.keras.layers.Dense(100, activation=\"relu\"),\n",
        "  tf.keras.layers.Dense(10, activation=\"relu\"),\n",
        "#   tf.keras.layers.Dense(10, activation=\"relu\"),\n",
        "  tf.keras.layers.Dense(1, activation=\"sigmoid\") # output layer, using 'sigmoid' for the output\n",
        "])\n",
        "\n",
        "# Compile the model\n",
        "model_09.compile(loss=tf.keras.losses.binary_crossentropy,\n",
        "                optimizer=tf.keras.optimizers.Adam(lr=0.01), # increase learning rate from 0.001 to 0.01 for faster learning\n",
        "                metrics=['accuracy'])\n",
        "\n",
        "# Fit the model\n",
        "history = model_09.fit(X_train_normal, y_train, epochs=500 , verbose=0)\n",
        "\n"
      ],
      "metadata": {
        "id": "HVT6ymxnQ9KT"
      },
      "execution_count": 307,
      "outputs": []
    },
    {
      "cell_type": "code",
      "source": [
        "model_09.evaluate(X_test_normal , y_test)"
      ],
      "metadata": {
        "colab": {
          "base_uri": "https://localhost:8080/"
        },
        "id": "p630YFODZtY4",
        "outputId": "8b3aa338-9af9-4533-dbd8-b73402214d95"
      },
      "execution_count": 308,
      "outputs": [
        {
          "output_type": "stream",
          "name": "stdout",
          "text": [
            "3/3 [==============================] - 0s 6ms/step - loss: 3.9590 - accuracy: 0.8333\n"
          ]
        },
        {
          "output_type": "execute_result",
          "data": {
            "text/plain": [
              "[3.9589545726776123, 0.8333333134651184]"
            ]
          },
          "metadata": {},
          "execution_count": 308
        }
      ]
    },
    {
      "cell_type": "code",
      "source": [
        "# Set random seed\n",
        "tf.random.set_seed(42)\n",
        "\n",
        "# Create the model (same as model_7)\n",
        "model_10 = tf.keras.Sequential([\n",
        "  tf.keras.layers.Dense(1000, activation=\"relu\"), # hidden layer 1, using \"relu\" for activation (same as tf.keras.activations.relu)\n",
        "  tf.keras.layers.Dense(100, activation=\"relu\"),\n",
        "  tf.keras.layers.Dense(10, activation=\"relu\"),\n",
        "#   tf.keras.layers.Dense(10, activation=\"relu\"),\n",
        "  tf.keras.layers.Dense(1, activation=\"sigmoid\") # output layer, using 'sigmoid' for the output\n",
        "])\n",
        "\n",
        "# Compile the model\n",
        "model_10.compile(loss=tf.keras.losses.binary_crossentropy,\n",
        "                optimizer=tf.keras.optimizers.Adam(learning_rate=0.01), # increase learning rate from 0.001 to 0.01 for faster learning\n",
        "                metrics=['accuracy'])\n",
        "\n",
        "# Fit the model\n",
        "history = model_10.fit(X_train, y_train, epochs=100 , verbose=0)\n",
        "\n"
      ],
      "metadata": {
        "id": "erZmlXvIZyfE"
      },
      "execution_count": 309,
      "outputs": []
    },
    {
      "cell_type": "code",
      "source": [
        "model_09.evaluate(X_test , y_test)"
      ],
      "metadata": {
        "colab": {
          "base_uri": "https://localhost:8080/"
        },
        "id": "vRC_vnknZ8vk",
        "outputId": "a7cb5470-ae40-4178-e2a1-1e49ebffb07b"
      },
      "execution_count": 310,
      "outputs": [
        {
          "output_type": "stream",
          "name": "stdout",
          "text": [
            "3/3 [==============================] - 0s 5ms/step - loss: 3274.9846 - accuracy: 0.5333\n"
          ]
        },
        {
          "output_type": "execute_result",
          "data": {
            "text/plain": [
              "[3274.984619140625, 0.5333333611488342]"
            ]
          },
          "metadata": {},
          "execution_count": 310
        }
      ]
    },
    {
      "cell_type": "code",
      "source": [
        "tf.random.set_seed(42)\n",
        "\n",
        "\n",
        "model_10 = tf.keras.Sequential([\n",
        "   tf.keras.layers.Dense(4, activation=\"relu\"), \n",
        "   tf.keras.layers.Dense(4, activation=\"relu\"),\n",
        "  tf.keras.layers.Dense(1, activation=\"sigmoid\")\n",
        "])  \n",
        "\n",
        "\n",
        "model_10.compile(loss=tf.keras.losses.binary_crossentropy,\n",
        "                optimizer=tf.keras.optimizers.Adam(learning_rate=0.03),\n",
        "                metrics=['accuracy'])\n",
        "\n",
        "\n",
        "history = model_10.fit(X_train, y_train, epochs=100,verbose=0)"
      ],
      "metadata": {
        "id": "1hEEqOTaZ_rx"
      },
      "execution_count": 311,
      "outputs": []
    },
    {
      "cell_type": "code",
      "source": [
        "model_10.evaluate(X_test , y_test)"
      ],
      "metadata": {
        "colab": {
          "base_uri": "https://localhost:8080/"
        },
        "id": "DYrg-P0eev1E",
        "outputId": "f5965502-5263-4d55-ea06-4c5f81d432ad"
      },
      "execution_count": 312,
      "outputs": [
        {
          "output_type": "stream",
          "name": "stdout",
          "text": [
            "3/3 [==============================] - 0s 5ms/step - loss: 0.4518 - accuracy: 0.8111\n"
          ]
        },
        {
          "output_type": "execute_result",
          "data": {
            "text/plain": [
              "[0.4517775774002075, 0.8111110925674438]"
            ]
          },
          "metadata": {},
          "execution_count": 312
        }
      ]
    },
    {
      "cell_type": "code",
      "source": [
        "# Create the model (same as model_3)\n",
        "model_11 = tf.keras.Sequential([\n",
        "  tf.keras.layers.Dense(1000, activation=\"relu\"), # hidden layer 1, using \"relu\" for activation (same as tf.keras.activations.relu)\n",
        "  tf.keras.layers.Dense(100, activation=\"relu\"),\n",
        "  tf.keras.layers.Dense(10, activation=\"relu\"),\n",
        "  tf.keras.layers.Dense(1, activation=\"sigmoid\") \n",
        "])\n",
        "\n",
        "# Compile the model\n",
        "model_11.compile(loss=tf.keras.losses.binary_crossentropy,\n",
        "                optimizer=tf.keras.optimizers.Adam(lr=0.01), \n",
        "                metrics=['accuracy'])\n",
        "\n",
        "# Fit the model\n",
        "history = model_11.fit(X_train, y_train, epochs=100,verbose=0)"
      ],
      "metadata": {
        "colab": {
          "base_uri": "https://localhost:8080/"
        },
        "id": "WlZqg_7Ze5Lv",
        "outputId": "7b71d394-0264-40cc-aedb-83920d2f7c56"
      },
      "execution_count": 313,
      "outputs": [
        {
          "output_type": "stream",
          "name": "stderr",
          "text": [
            "/usr/local/lib/python3.7/dist-packages/keras/optimizers/optimizer_v2/adam.py:110: UserWarning: The `lr` argument is deprecated, use `learning_rate` instead.\n",
            "  super(Adam, self).__init__(name, **kwargs)\n"
          ]
        }
      ]
    },
    {
      "cell_type": "code",
      "source": [
        "model_11.evaluate(X_test , y_test)"
      ],
      "metadata": {
        "colab": {
          "base_uri": "https://localhost:8080/"
        },
        "id": "ZrAw3bUqfk53",
        "outputId": "66e9f590-4611-4c4c-8328-d585b007bcfa"
      },
      "execution_count": 314,
      "outputs": [
        {
          "output_type": "stream",
          "name": "stdout",
          "text": [
            "3/3 [==============================] - 0s 5ms/step - loss: 0.4385 - accuracy: 0.8222\n"
          ]
        },
        {
          "output_type": "execute_result",
          "data": {
            "text/plain": [
              "[0.4385390877723694, 0.8222222328186035]"
            ]
          },
          "metadata": {},
          "execution_count": 314
        }
      ]
    },
    {
      "cell_type": "code",
      "source": [
        "tf.random.set_seed(42)\n",
        "\n",
        "\n",
        "model_12 = tf.keras.Sequential([\n",
        "   tf.keras.layers.Dense(10, activation=\"relu\"), \n",
        "   tf.keras.layers.Dense(10, activation=\"relu\"),\n",
        "  tf.keras.layers.Dense(10, activation=\"relu\"), \n",
        "  tf.keras.layers.Dense(10, activation=\"relu\"), \n",
        "  tf.keras.layers.Dense(1, activation=\"sigmoid\")\n",
        "])  \n",
        "\n",
        "\n",
        "model_12.compile(loss=tf.keras.losses.binary_crossentropy,\n",
        "                optimizer=tf.keras.optimizers.Adam(lr=0.01),\n",
        "                metrics=['accuracy'])\n",
        "\n",
        "\n",
        "history = model_12.fit(X_train, y_train, epochs=100,verbose=0)"
      ],
      "metadata": {
        "colab": {
          "base_uri": "https://localhost:8080/"
        },
        "id": "Ypx081zCfs3C",
        "outputId": "16593a19-3711-41f4-b568-4d466750f8e0"
      },
      "execution_count": 315,
      "outputs": [
        {
          "output_type": "stream",
          "name": "stderr",
          "text": [
            "/usr/local/lib/python3.7/dist-packages/keras/optimizers/optimizer_v2/adam.py:110: UserWarning: The `lr` argument is deprecated, use `learning_rate` instead.\n",
            "  super(Adam, self).__init__(name, **kwargs)\n"
          ]
        }
      ]
    },
    {
      "cell_type": "code",
      "source": [
        "model_12.evaluate(X_test , y_test)"
      ],
      "metadata": {
        "colab": {
          "base_uri": "https://localhost:8080/"
        },
        "id": "w1gEEs_Yfzjk",
        "outputId": "7045448d-fbd5-42f3-c0a7-fe84e8f5add5"
      },
      "execution_count": 316,
      "outputs": [
        {
          "output_type": "stream",
          "name": "stdout",
          "text": [
            "3/3 [==============================] - 0s 4ms/step - loss: 0.4404 - accuracy: 0.8111\n"
          ]
        },
        {
          "output_type": "execute_result",
          "data": {
            "text/plain": [
              "[0.44044244289398193, 0.8111110925674438]"
            ]
          },
          "metadata": {},
          "execution_count": 316
        }
      ]
    },
    {
      "cell_type": "code",
      "source": [
        "y_preds = model_08.predict(X_test_normal)"
      ],
      "metadata": {
        "colab": {
          "base_uri": "https://localhost:8080/"
        },
        "id": "k9y5i6EUHz96",
        "outputId": "659d4825-75a1-43e0-9ffa-8c4adaa52ca7"
      },
      "execution_count": 328,
      "outputs": [
        {
          "output_type": "stream",
          "name": "stdout",
          "text": [
            "3/3 [==============================] - 0s 5ms/step\n"
          ]
        }
      ]
    },
    {
      "cell_type": "code",
      "source": [
        "# Create a confusion matrix\n",
        "from sklearn.metrics import confusion_matrix\n",
        "\n",
        "# Make predictions\n",
        "y_preds = model_08.predict(X_test_normal)\n",
        "\n",
        "# Create confusion matrix\n",
        "confusion_matrix(y_test, tf.round(y_preds))"
      ],
      "metadata": {
        "colab": {
          "base_uri": "https://localhost:8080/"
        },
        "id": "ST6PfW-bHTzP",
        "outputId": "ccc4b078-120d-4ff2-d5e4-0b898f0cd028"
      },
      "execution_count": 329,
      "outputs": [
        {
          "output_type": "stream",
          "name": "stdout",
          "text": [
            "3/3 [==============================] - 0s 5ms/step\n"
          ]
        },
        {
          "output_type": "execute_result",
          "data": {
            "text/plain": [
              "array([[42,  6],\n",
              "       [ 9, 33]])"
            ]
          },
          "metadata": {},
          "execution_count": 329
        }
      ]
    },
    {
      "cell_type": "code",
      "source": [
        "# Note: The following confusion matrix code is a remix of Scikit-Learn's \n",
        "# plot_confusion_matrix function - https://scikit-learn.org/stable/modules/generated/sklearn.metrics.plot_confusion_matrix.html\n",
        "# and Made with ML's introductory notebook - https://github.com/GokuMohandas/MadeWithML/blob/main/notebooks/08_Neural_Networks.ipynb \n",
        "import itertools\n",
        "import numpy as np\n",
        "\n",
        "figsize = (10, 10)\n",
        "\n",
        "# Create the confusion matrix\n",
        "cm = confusion_matrix(y_test, tf.round(y_preds))\n",
        "cm_norm = cm.astype(\"float\") / cm.sum(axis=1)[:, np.newaxis] # normalize it\n",
        "n_classes = cm.shape[0]\n",
        "\n",
        "# Let's prettify it\n",
        "fig, ax = plt.subplots(figsize=figsize)\n",
        "# Create a matrix plot\n",
        "cax = ax.matshow(cm, cmap=plt.cm.Blues) # https://matplotlib.org/3.2.0/api/_as_gen/matplotlib.axes.Axes.matshow.html\n",
        "fig.colorbar(cax)\n",
        "\n",
        "# Create classes\n",
        "classes = False\n",
        "\n",
        "if classes:\n",
        "  labels = classes\n",
        "else:\n",
        "  labels = np.arange(cm.shape[0])\n",
        "\n",
        "# Label the axes\n",
        "ax.set(title=\"Confusion Matrix\",\n",
        "       xlabel=\"Predicted label\",\n",
        "       ylabel=\"True label\",\n",
        "       xticks=np.arange(n_classes),\n",
        "       yticks=np.arange(n_classes),\n",
        "       xticklabels=labels,\n",
        "       yticklabels=labels)\n",
        "\n",
        "# Set x-axis labels to bottom\n",
        "ax.xaxis.set_label_position(\"bottom\")\n",
        "ax.xaxis.tick_bottom()\n",
        "\n",
        "# Adjust label size\n",
        "ax.xaxis.label.set_size(20)\n",
        "ax.yaxis.label.set_size(20)\n",
        "ax.title.set_size(20)\n",
        "\n",
        "# Set threshold for different colors\n",
        "threshold = (cm.max() + cm.min()) / 2.\n",
        "\n",
        "# Plot the text on each cell\n",
        "for i, j in itertools.product(range(cm.shape[0]), range(cm.shape[1])):\n",
        "  plt.text(j, i, f\"{cm[i, j]} ({cm_norm[i, j]*100:.1f}%)\",\n",
        "           horizontalalignment=\"center\",\n",
        "           color=\"white\" if cm[i, j] > threshold else \"black\",\n",
        "           size=15)\n",
        "\n"
      ],
      "metadata": {
        "colab": {
          "base_uri": "https://localhost:8080/",
          "height": 574
        },
        "id": "WunP_xgfIAtK",
        "outputId": "6174cbaa-7a83-479d-e7b6-bdee66363d97"
      },
      "execution_count": 330,
      "outputs": [
        {
          "output_type": "display_data",
          "data": {
            "text/plain": [
              "<Figure size 720x720 with 2 Axes>"
            ],
            "image/png": "[encoded data removed]"
          },
          "metadata": {
            "needs_background": "light"
          }
        }
      ]
    },
    {
      "cell_type": "code",
      "source": [
        "y1_preds=tf.cast(tf.round(y_preds),tf.int64)"
      ],
      "metadata": {
        "id": "jg6scQ_7KyIF"
      },
      "execution_count": 338,
      "outputs": []
    },
    {
      "cell_type": "code",
      "source": [
        "import pandas as pd\n",
        "pd.DataFrame(y1_preds , y_test)"
      ],
      "metadata": {
        "colab": {
          "base_uri": "https://localhost:8080/",
          "height": 455
        },
        "id": "qX1EreVgIphw",
        "outputId": "2e34fdf6-66c4-4be4-9cdc-a2ac06753ac9"
      },
      "execution_count": 345,
      "outputs": [
        {
          "output_type": "execute_result",
          "data": {
            "text/plain": [
              "                                             0\n",
              "condition                                     \n",
              "1          tf.Tensor(1, shape=(), dtype=int64)\n",
              "1          tf.Tensor(0, shape=(), dtype=int64)\n",
              "0          tf.Tensor(0, shape=(), dtype=int64)\n",
              "0          tf.Tensor(0, shape=(), dtype=int64)\n",
              "0          tf.Tensor(0, shape=(), dtype=int64)\n",
              "...                                        ...\n",
              "0          tf.Tensor(0, shape=(), dtype=int64)\n",
              "1          tf.Tensor(1, shape=(), dtype=int64)\n",
              "1          tf.Tensor(1, shape=(), dtype=int64)\n",
              "1          tf.Tensor(1, shape=(), dtype=int64)\n",
              "0          tf.Tensor(0, shape=(), dtype=int64)\n",
              "\n",
              "[90 rows x 1 columns]"
            ],
            "text/html": [
              "\n",
              "  <div id=\"df-7e061fb5-4feb-4edd-8a2f-06b3c1cae527\">\n",
              "    <div class=\"colab-df-container\">\n",
              "      <div>\n",
              "<style scoped>\n",
              "    .dataframe tbody tr th:only-of-type {\n",
              "        vertical-align: middle;\n",
              "    }\n",
              "\n",
              "    .dataframe tbody tr th {\n",
              "        vertical-align: top;\n",
              "    }\n",
              "\n",
              "    .dataframe thead th {\n",
              "        text-align: right;\n",
              "    }\n",
              "</style>\n",
              "<table border=\"1\" class=\"dataframe\">\n",
              "  <thead>\n",
              "    <tr style=\"text-align: right;\">\n",
              "      <th></th>\n",
              "      <th>0</th>\n",
              "    </tr>\n",
              "    <tr>\n",
              "      <th>condition</th>\n",
              "      <th></th>\n",
              "    </tr>\n",
              "  </thead>\n",
              "  <tbody>\n",
              "    <tr>\n",
              "      <th>1</th>\n",
              "      <td>tf.Tensor(1, shape=(), dtype=int64)</td>\n",
              "    </tr>\n",
              "    <tr>\n",
              "      <th>1</th>\n",
              "      <td>tf.Tensor(0, shape=(), dtype=int64)</td>\n",
              "    </tr>\n",
              "    <tr>\n",
              "      <th>0</th>\n",
              "      <td>tf.Tensor(0, shape=(), dtype=int64)</td>\n",
              "    </tr>\n",
              "    <tr>\n",
              "      <th>0</th>\n",
              "      <td>tf.Tensor(0, shape=(), dtype=int64)</td>\n",
              "    </tr>\n",
              "    <tr>\n",
              "      <th>0</th>\n",
              "      <td>tf.Tensor(0, shape=(), dtype=int64)</td>\n",
              "    </tr>\n",
              "    <tr>\n",
              "      <th>...</th>\n",
              "      <td>...</td>\n",
              "    </tr>\n",
              "    <tr>\n",
              "      <th>0</th>\n",
              "      <td>tf.Tensor(0, shape=(), dtype=int64)</td>\n",
              "    </tr>\n",
              "    <tr>\n",
              "      <th>1</th>\n",
              "      <td>tf.Tensor(1, shape=(), dtype=int64)</td>\n",
              "    </tr>\n",
              "    <tr>\n",
              "      <th>1</th>\n",
              "      <td>tf.Tensor(1, shape=(), dtype=int64)</td>\n",
              "    </tr>\n",
              "    <tr>\n",
              "      <th>1</th>\n",
              "      <td>tf.Tensor(1, shape=(), dtype=int64)</td>\n",
              "    </tr>\n",
              "    <tr>\n",
              "      <th>0</th>\n",
              "      <td>tf.Tensor(0, shape=(), dtype=int64)</td>\n",
              "    </tr>\n",
              "  </tbody>\n",
              "</table>\n",
              "<p>90 rows × 1 columns</p>\n",
              "</div>\n",
              "      <button class=\"colab-df-convert\" onclick=\"convertToInteractive('df-7e061fb5-4feb-4edd-8a2f-06b3c1cae527')\"\n",
              "              title=\"Convert this dataframe to an interactive table.\"\n",
              "              style=\"display:none;\">\n",
              "        \n",
              "  <svg xmlns=\"http://www.w3.org/2000/svg\" height=\"24px\"viewBox=\"0 0 24 24\"\n",
              "       width=\"24px\">\n",
              "    <path d=\"M0 0h24v24H0V0z\" fill=\"none\"/>\n",
              "    <path d=\"M18.56 5.44l.94 2.06.94-2.06 2.06-.94-2.06-.94-.94-2.06-.94 2.06-2.06.94zm-11 1L8.5 8.5l.94-2.06 2.06-.94-2.06-.94L8.5 2.5l-.94 2.06-2.06.94zm10 10l.94 2.06.94-2.06 2.06-.94-2.06-.94-.94-2.06-.94 2.06-2.06.94z\"/><path d=\"M17.41 7.96l-1.37-1.37c-.4-.4-.92-.59-1.43-.59-.52 0-1.04.2-1.43.59L10.3 9.45l-7.72 7.72c-.78.78-.78 2.05 0 2.83L4 21.41c.39.39.9.59 1.41.59.51 0 1.02-.2 1.41-.59l7.78-7.78 2.81-2.81c.8-.78.8-2.07 0-2.86zM5.41 20L4 18.59l7.72-7.72 1.47 1.35L5.41 20z\"/>\n",
              "  </svg>\n",
              "      </button>\n",
              "      \n",
              "  <style>\n",
              "    .colab-df-container {\n",
              "      display:flex;\n",
              "      flex-wrap:wrap;\n",
              "      gap: 12px;\n",
              "    }\n",
              "\n",
              "    .colab-df-convert {\n",
              "      background-color: #E8F0FE;\n",
              "      border: none;\n",
              "      border-radius: 50%;\n",
              "      cursor: pointer;\n",
              "      display: none;\n",
              "      fill: #1967D2;\n",
              "      height: 32px;\n",
              "      padding: 0 0 0 0;\n",
              "      width: 32px;\n",
              "    }\n",
              "\n",
              "    .colab-df-convert:hover {\n",
              "      background-color: #E2EBFA;\n",
              "      box-shadow: 0px 1px 2px rgba(60, 64, 67, 0.3), 0px 1px 3px 1px rgba(60, 64, 67, 0.15);\n",
              "      fill: #174EA6;\n",
              "    }\n",
              "\n",
              "    [theme=dark] .colab-df-convert {\n",
              "      background-color: #3B4455;\n",
              "      fill: #D2E3FC;\n",
              "    }\n",
              "\n",
              "    [theme=dark] .colab-df-convert:hover {\n",
              "      background-color: #434B5C;\n",
              "      box-shadow: 0px 1px 3px 1px rgba(0, 0, 0, 0.15);\n",
              "      filter: drop-shadow(0px 1px 2px rgba(0, 0, 0, 0.3));\n",
              "      fill: #FFFFFF;\n",
              "    }\n",
              "  </style>\n",
              "\n",
              "      <script>\n",
              "        const buttonEl =\n",
              "          document.querySelector('#df-7e061fb5-4feb-4edd-8a2f-06b3c1cae527 button.colab-df-convert');\n",
              "        buttonEl.style.display =\n",
              "          google.colab.kernel.accessAllowed ? 'block' : 'none';\n",
              "\n",
              "        async function convertToInteractive(key) {\n",
              "          const element = document.querySelector('#df-7e061fb5-4feb-4edd-8a2f-06b3c1cae527');\n",
              "          const dataTable =\n",
              "            await google.colab.kernel.invokeFunction('convertToInteractive',\n",
              "                                                     [key], {});\n",
              "          if (!dataTable) return;\n",
              "\n",
              "          const docLinkHtml = 'Like what you see? Visit the ' +\n",
              "            '<a target=\"_blank\" href=https://colab.research.google.com/notebooks/data_table.ipynb>data table notebook</a>'\n",
              "            + ' to learn more about interactive tables.';\n",
              "          element.innerHTML = '';\n",
              "          dataTable['output_type'] = 'display_data';\n",
              "          await google.colab.output.renderOutput(dataTable, element);\n",
              "          const docLink = document.createElement('div');\n",
              "          docLink.innerHTML = docLinkHtml;\n",
              "          element.appendChild(docLink);\n",
              "        }\n",
              "      </script>\n",
              "    </div>\n",
              "  </div>\n",
              "  "
            ]
          },
          "metadata": {},
          "execution_count": 345
        }
      ]
    },
    {
      "cell_type": "code",
      "source": [],
      "metadata": {
        "id": "2OPr73pUNKBX"
      },
      "execution_count": null,
      "outputs": []
    }
  ],
  "metadata": {
    "colab": {
      "provenance": [],
      "collapsed_sections": [],
      "authorship_tag": "ABX9TyMo0p0ELH1qa+6401Z5H8ON",
      "include_colab_link": true
    },
    "kernelspec": {
      "display_name": "Python 3",
      "name": "python3"
    },
    "language_info": {
      "name": "python"
    }
  },
  "nbformat": 4,
  "nbformat_minor": 0
}